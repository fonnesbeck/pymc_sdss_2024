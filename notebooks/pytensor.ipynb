{
 "cells": [
  {
   "attachments": {},
   "cell_type": "markdown",
   "metadata": {},
   "source": [
    "[![Open In Colab](https://colab.research.google.com/assets/colab-badge.svg)](https://colab.research.google.com/github/fonnesbeck/bayes_course_dec_2023/blob/master/notebooks/Section1_3-Pymc_and_Pytensor.ipynb)\n",
    "\n",
    "# PyMC and PyTensor\n",
    "\n",
    "Before we dive into building Bayesian models in PyMC, we want to give a brief introduction to the PyTensor library. PyTensor is a Python library that allows you to define, optimize/rewrite, and evaluate mathematical expressions involving multi-dimensional arrays efficiently. It serves as the computational backend of PyMC.\n",
    "\n",
    "![pytensor logo](images/PyTensor_RGB.png)\n",
    "\n",
    "Some of PyTensor’s features are:\n",
    "\n",
    "- Tight integration with NumPy - Use `numpy.ndarray` in PyTensor-compiled functions\n",
    "- Efficient symbolic differentiation - PyTensor efficiently computes your derivatives for functions with one or many inputs\n",
    "- Speed and stability optimizations - Get the right answer for log(1 + x) even when x is near zero\n",
    "- Dynamic C/JAX/Numba code generation - Evaluate expressions faster\n",
    "\n",
    "PyTensor is based on Theano, which has been powering large-scale computationally intensive scientific investigations since 2007.\n",
    "\n",
    "In this notebook we want to give an introduction of how PyMC models translate to PyTensor graphs. The purpose is not to give a detailed description of all [`pytensor`](https://github.com/pytensor-devs/pytensor)'s capabilities but rather focus on the main concepts to understand its connection with PyMC. For a more detailed description of the project please refer to the official documentation."
   ]
  },
  {
   "cell_type": "code",
   "execution_count": 1,
   "metadata": {
    "hidden": true
   },
   "outputs": [],
   "source": [
    "import pytensor\n",
    "import pytensor.tensor as pt\n",
    "import pymc as pm\n",
    "import matplotlib.pyplot as plt\n",
    "import numpy as np\n",
    "import scipy.stats\n",
    "\n",
    "RANDOM_SEED = 20090425"
   ]
  },
  {
   "attachments": {},
   "cell_type": "markdown",
   "metadata": {},
   "source": [
    "### A simple example\n",
    "\n",
    "To begin, we define some pytensor tensors and show how to perform some basic operations."
   ]
  },
  {
   "cell_type": "code",
   "execution_count": 2,
   "metadata": {},
   "outputs": [
    {
     "name": "stdout",
     "output_type": "stream",
     "text": [
      "\n",
      "x type: Scalar(float64, shape=())\n",
      "x name = x\n",
      "---\n",
      "y type: Vector(float64, shape=(?,))\n",
      "y name = y\n",
      "\n"
     ]
    }
   ],
   "source": [
    "x = pt.scalar(name=\"x\")\n",
    "y = pt.vector(name=\"y\")\n",
    "\n",
    "print(\n",
    "    f\"\"\"\n",
    "x type: {x.type}\n",
    "x name = {x.name}\n",
    "---\n",
    "y type: {y.type}\n",
    "y name = {y.name}\n",
    "\"\"\"\n",
    ")"
   ]
  },
  {
   "attachments": {},
   "cell_type": "markdown",
   "metadata": {},
   "source": [
    "Now that we have defined the `x` and `y` tensors, we can create a new one by adding them together."
   ]
  },
  {
   "cell_type": "code",
   "execution_count": 3,
   "metadata": {},
   "outputs": [],
   "source": [
    "z = x + y\n",
    "z.name = \"x + y\""
   ]
  },
  {
   "attachments": {},
   "cell_type": "markdown",
   "metadata": {},
   "source": [
    "To make the computation a bit more complex let us take the logarithm of the resulting tensor."
   ]
  },
  {
   "cell_type": "code",
   "execution_count": 4,
   "metadata": {},
   "outputs": [],
   "source": [
    "w = pt.log(z)\n",
    "w.name = \"log(x + y)\""
   ]
  },
  {
   "attachments": {},
   "cell_type": "markdown",
   "metadata": {},
   "source": [
    "We can use the `pytensor.dprint` function to print the computational graph of any given tensor."
   ]
  },
  {
   "cell_type": "code",
   "execution_count": 5,
   "metadata": {},
   "outputs": [
    {
     "name": "stdout",
     "output_type": "stream",
     "text": [
      "Log [id A] 'log(x + y)'\n",
      " └─ Add [id B] 'x + y'\n",
      "    ├─ ExpandDims{axis=0} [id C]\n",
      "    │  └─ x [id D]\n",
      "    └─ y [id E]\n"
     ]
    },
    {
     "data": {
      "text/plain": [
       "<ipykernel.iostream.OutStream at 0x7fd5c5e360b0>"
      ]
     },
     "execution_count": 5,
     "metadata": {},
     "output_type": "execute_result"
    }
   ],
   "source": [
    "pytensor.dprint(w)"
   ]
  },
  {
   "attachments": {},
   "cell_type": "markdown",
   "metadata": {},
   "source": [
    "Note that this graph does not do any computation (yet!). It is simply defining the sequence of steps to be done. We can use `pytensor.function` to define a callable object so that we can push values trough the graph."
   ]
  },
  {
   "cell_type": "code",
   "execution_count": 6,
   "metadata": {},
   "outputs": [],
   "source": [
    "f = pytensor.function(inputs=[x, y], outputs=w)"
   ]
  },
  {
   "attachments": {},
   "cell_type": "markdown",
   "metadata": {},
   "source": [
    "Now that the graph is compiled, we can push some concrete values:"
   ]
  },
  {
   "cell_type": "code",
   "execution_count": 7,
   "metadata": {},
   "outputs": [
    {
     "data": {
      "text/plain": [
       "array([0., 1.])"
      ]
     },
     "execution_count": 7,
     "metadata": {},
     "output_type": "execute_result"
    }
   ],
   "source": [
    "f(x=0, y=[1, np.e])"
   ]
  },
  {
   "attachments": {},
   "cell_type": "markdown",
   "metadata": {},
   "source": [
    "> TIP:\n",
    "> Sometimes we just want to debug, we can use `pytensor.graph.basic.Variable.eval` for that:"
   ]
  },
  {
   "cell_type": "code",
   "execution_count": 8,
   "metadata": {},
   "outputs": [
    {
     "data": {
      "text/plain": [
       "array([0., 1.])"
      ]
     },
     "execution_count": 8,
     "metadata": {},
     "output_type": "execute_result"
    }
   ],
   "source": [
    "w.eval({x: 0, y: [1, np.e]})"
   ]
  },
  {
   "attachments": {},
   "cell_type": "markdown",
   "metadata": {},
   "source": [
    "You can set intermediate values as well"
   ]
  },
  {
   "cell_type": "code",
   "execution_count": 9,
   "metadata": {},
   "outputs": [
    {
     "data": {
      "text/plain": [
       "array([0., 1.])"
      ]
     },
     "execution_count": 9,
     "metadata": {},
     "output_type": "execute_result"
    }
   ],
   "source": [
    "w.eval({z: [1, np.e]})"
   ]
  },
  {
   "attachments": {},
   "cell_type": "markdown",
   "metadata": {},
   "source": [
    "### PyTensor is clever!\n",
    "\n",
    "One of the most important features of `pytensor` is that it can automatically optimize the mathematical operations inside a graph. Let's consider a simple example:"
   ]
  },
  {
   "cell_type": "code",
   "execution_count": 10,
   "metadata": {},
   "outputs": [
    {
     "name": "stdout",
     "output_type": "stream",
     "text": [
      "True_div [id A] 'a / b'\n",
      " ├─ a [id B]\n",
      " └─ b [id C]\n"
     ]
    },
    {
     "data": {
      "text/plain": [
       "<ipykernel.iostream.OutStream at 0x7fd5c5e360b0>"
      ]
     },
     "execution_count": 10,
     "metadata": {},
     "output_type": "execute_result"
    }
   ],
   "source": [
    "a = pt.scalar(name=\"a\")\n",
    "b = pt.scalar(name=\"b\")\n",
    "\n",
    "c = a / b\n",
    "c.name = \"a / b\"\n",
    "\n",
    "pytensor.dprint(c)"
   ]
  },
  {
   "attachments": {},
   "cell_type": "markdown",
   "metadata": {},
   "source": [
    "Now let us multiply `b` times `c`. This should result in simply `a`."
   ]
  },
  {
   "cell_type": "code",
   "execution_count": 11,
   "metadata": {},
   "outputs": [
    {
     "name": "stdout",
     "output_type": "stream",
     "text": [
      "Mul [id A] 'b * c'\n",
      " ├─ b [id B]\n",
      " └─ True_div [id C] 'a / b'\n",
      "    ├─ a [id D]\n",
      "    └─ b [id B]\n"
     ]
    },
    {
     "data": {
      "text/plain": [
       "<ipykernel.iostream.OutStream at 0x7fd5c5e360b0>"
      ]
     },
     "execution_count": 11,
     "metadata": {},
     "output_type": "execute_result"
    }
   ],
   "source": [
    "d = b * c\n",
    "d.name = \"b * c\"\n",
    "\n",
    "pytensor.dprint(d)"
   ]
  },
  {
   "attachments": {},
   "cell_type": "markdown",
   "metadata": {},
   "source": [
    "The graph shows the full computation, but once we compile it the operation becomes the identity on `a` as expected."
   ]
  },
  {
   "cell_type": "code",
   "execution_count": 12,
   "metadata": {},
   "outputs": [
    {
     "name": "stdout",
     "output_type": "stream",
     "text": [
      "DeepCopyOp [id A] 0\n",
      " └─ a [id B]\n"
     ]
    },
    {
     "data": {
      "text/plain": [
       "<ipykernel.iostream.OutStream at 0x7fd5c5e360b0>"
      ]
     },
     "execution_count": 12,
     "metadata": {},
     "output_type": "execute_result"
    }
   ],
   "source": [
    "g = pytensor.function(inputs=[a, b], outputs=d)\n",
    "\n",
    "pytensor.dprint(g)"
   ]
  },
  {
   "attachments": {},
   "cell_type": "markdown",
   "metadata": {},
   "source": [
    "### What is in an PyTensor graph?\n",
    "\n",
    "The following diagram shows the basic structure of an `pytensor` graph.\n",
    "\n",
    "![pytensor graph](images/apply.png)"
   ]
  },
  {
   "attachments": {},
   "cell_type": "markdown",
   "metadata": {},
   "source": [
    "We can can make these concepts more tangible by explicitly indicating them in the first example from the section above. Let us compute the graph components for the tensor `z`. "
   ]
  },
  {
   "cell_type": "code",
   "execution_count": 13,
   "metadata": {},
   "outputs": [
    {
     "name": "stdout",
     "output_type": "stream",
     "text": [
      "\n",
      "z type: Vector(float64, shape=(?,))\n",
      "z name = x + y\n",
      "z owner = Add(ExpandDims{axis=0}.0, y)\n",
      "z owner inputs = [ExpandDims{axis=0}.0, y]\n",
      "z owner op = Add\n",
      "z owner output = [x + y]\n",
      "\n"
     ]
    }
   ],
   "source": [
    "print(\n",
    "    f\"\"\"\n",
    "z type: {z.type}\n",
    "z name = {z.name}\n",
    "z owner = {z.owner}\n",
    "z owner inputs = {z.owner.inputs}\n",
    "z owner op = {z.owner.op}\n",
    "z owner output = {z.owner.outputs}\n",
    "\"\"\"\n",
    ")"
   ]
  },
  {
   "attachments": {},
   "cell_type": "markdown",
   "metadata": {},
   "source": [
    "The following code snippet helps us understand these concepts by going through the computational graph of `w`. The actual code is not as important here, the focus is on the outputs."
   ]
  },
  {
   "cell_type": "code",
   "execution_count": 14,
   "metadata": {},
   "outputs": [
    {
     "name": "stdout",
     "output_type": "stream",
     "text": [
      "---\n",
      "Checking variable log(x + y) of type Vector(float64, shape=(?,))\n",
      " > Op is Log\n",
      " > Input 0 is x + y\n",
      "---\n",
      "Checking variable x + y of type Vector(float64, shape=(?,))\n",
      " > Op is Add\n",
      " > Input 0 is ExpandDims{axis=0}.0\n",
      " > Input 1 is y\n",
      "---\n",
      "Checking variable ExpandDims{axis=0}.0 of type Vector(float64, shape=(1,))\n",
      " > Op is ExpandDims{axis=0}\n",
      " > Input 0 is x\n",
      "---\n",
      "Checking variable y of type Vector(float64, shape=(?,))\n",
      " > y is a root variable\n",
      "---\n",
      "Checking variable x of type Scalar(float64, shape=())\n",
      " > x is a root variable\n"
     ]
    }
   ],
   "source": [
    "# start from the top\n",
    "stack = [w]\n",
    "\n",
    "while stack:\n",
    "    print(\"---\")\n",
    "    var = stack.pop(0)\n",
    "    print(f\"Checking variable {var} of type {var.type}\")\n",
    "    # check variable is not a root variable\n",
    "    if var.owner is not None:\n",
    "        print(f\" > Op is {var.owner.op}\")\n",
    "        # loop over the inputs\n",
    "        for i, input in enumerate(var.owner.inputs):\n",
    "            print(f\" > Input {i} is {input}\")\n",
    "            stack.append(input)\n",
    "    else:\n",
    "        print(f\" > {var} is a root variable\")"
   ]
  },
  {
   "attachments": {},
   "cell_type": "markdown",
   "metadata": {},
   "source": [
    "Note that this is very similar to the output of `pytensor.dprint` function introduced above."
   ]
  },
  {
   "cell_type": "code",
   "execution_count": 15,
   "metadata": {},
   "outputs": [
    {
     "name": "stdout",
     "output_type": "stream",
     "text": [
      "Log [id A] 'log(x + y)'\n",
      " └─ Add [id B] 'x + y'\n",
      "    ├─ ExpandDims{axis=0} [id C]\n",
      "    │  └─ x [id D]\n",
      "    └─ y [id E]\n"
     ]
    },
    {
     "data": {
      "text/plain": [
       "<ipykernel.iostream.OutStream at 0x7fd5c5e360b0>"
      ]
     },
     "execution_count": 15,
     "metadata": {},
     "output_type": "execute_result"
    }
   ],
   "source": [
    "pytensor.dprint(w)"
   ]
  },
  {
   "attachments": {},
   "cell_type": "markdown",
   "metadata": {},
   "source": [
    "### Exercise: Create and manipulate PyTensor objects\n",
    "\n",
    "To give you some practice with basic PyTensor data structures and functions, try making the operations below work by implementing the functions that are needed."
   ]
  },
  {
   "cell_type": "code",
   "execution_count": 16,
   "metadata": {},
   "outputs": [
    {
     "ename": "TypeError",
     "evalue": "Unknown parameter type: <class 'NoneType'>",
     "output_type": "error",
     "traceback": [
      "\u001b[0;31m---------------------------------------------------------------------------\u001b[0m",
      "\u001b[0;31mTypeError\u001b[0m                                 Traceback (most recent call last)",
      "Cell \u001b[0;32mIn[16], line 43\u001b[0m\n\u001b[1;32m     40\u001b[0m d \u001b[38;5;241m=\u001b[39m make_matrix()\n\u001b[1;32m     41\u001b[0m e \u001b[38;5;241m=\u001b[39m matrix_vector_mul(d, c)\n\u001b[0;32m---> 43\u001b[0m f \u001b[38;5;241m=\u001b[39m \u001b[43mpytensor\u001b[49m\u001b[38;5;241;43m.\u001b[39;49m\u001b[43mfunction\u001b[49m\u001b[43m(\u001b[49m\u001b[43m[\u001b[49m\u001b[43ma\u001b[49m\u001b[43m,\u001b[49m\u001b[43m \u001b[49m\u001b[43mb\u001b[49m\u001b[43m,\u001b[49m\u001b[43m \u001b[49m\u001b[43md\u001b[49m\u001b[43m]\u001b[49m\u001b[43m,\u001b[49m\u001b[43m \u001b[49m\u001b[43me\u001b[49m\u001b[43m)\u001b[49m\n\u001b[1;32m     45\u001b[0m rng \u001b[38;5;241m=\u001b[39m np\u001b[38;5;241m.\u001b[39mrandom\u001b[38;5;241m.\u001b[39mRandomState([\u001b[38;5;241m1\u001b[39m, \u001b[38;5;241m2\u001b[39m, \u001b[38;5;241m3\u001b[39m])\n\u001b[1;32m     46\u001b[0m a_value \u001b[38;5;241m=\u001b[39m rng\u001b[38;5;241m.\u001b[39mrandn(\u001b[38;5;241m5\u001b[39m)\u001b[38;5;241m.\u001b[39mastype(a\u001b[38;5;241m.\u001b[39mdtype)\n",
      "File \u001b[0;32m~/miniforge3/envs/pymc_course/lib/python3.12/site-packages/pytensor/compile/function/__init__.py:315\u001b[0m, in \u001b[0;36mfunction\u001b[0;34m(inputs, outputs, mode, updates, givens, no_default_updates, accept_inplace, name, rebuild_strict, allow_input_downcast, profile, on_unused_input)\u001b[0m\n\u001b[1;32m    309\u001b[0m     fn \u001b[38;5;241m=\u001b[39m orig_function(\n\u001b[1;32m    310\u001b[0m         inputs, outputs, mode\u001b[38;5;241m=\u001b[39mmode, accept_inplace\u001b[38;5;241m=\u001b[39maccept_inplace, name\u001b[38;5;241m=\u001b[39mname\n\u001b[1;32m    311\u001b[0m     )\n\u001b[1;32m    312\u001b[0m \u001b[38;5;28;01melse\u001b[39;00m:\n\u001b[1;32m    313\u001b[0m     \u001b[38;5;66;03m# note: pfunc will also call orig_function -- orig_function is\u001b[39;00m\n\u001b[1;32m    314\u001b[0m     \u001b[38;5;66;03m#      a choke point that all compilation must pass through\u001b[39;00m\n\u001b[0;32m--> 315\u001b[0m     fn \u001b[38;5;241m=\u001b[39m \u001b[43mpfunc\u001b[49m\u001b[43m(\u001b[49m\n\u001b[1;32m    316\u001b[0m \u001b[43m        \u001b[49m\u001b[43mparams\u001b[49m\u001b[38;5;241;43m=\u001b[39;49m\u001b[43minputs\u001b[49m\u001b[43m,\u001b[49m\n\u001b[1;32m    317\u001b[0m \u001b[43m        \u001b[49m\u001b[43moutputs\u001b[49m\u001b[38;5;241;43m=\u001b[39;49m\u001b[43moutputs\u001b[49m\u001b[43m,\u001b[49m\n\u001b[1;32m    318\u001b[0m \u001b[43m        \u001b[49m\u001b[43mmode\u001b[49m\u001b[38;5;241;43m=\u001b[39;49m\u001b[43mmode\u001b[49m\u001b[43m,\u001b[49m\n\u001b[1;32m    319\u001b[0m \u001b[43m        \u001b[49m\u001b[43mupdates\u001b[49m\u001b[38;5;241;43m=\u001b[39;49m\u001b[43mupdates\u001b[49m\u001b[43m,\u001b[49m\n\u001b[1;32m    320\u001b[0m \u001b[43m        \u001b[49m\u001b[43mgivens\u001b[49m\u001b[38;5;241;43m=\u001b[39;49m\u001b[43mgivens\u001b[49m\u001b[43m,\u001b[49m\n\u001b[1;32m    321\u001b[0m \u001b[43m        \u001b[49m\u001b[43mno_default_updates\u001b[49m\u001b[38;5;241;43m=\u001b[39;49m\u001b[43mno_default_updates\u001b[49m\u001b[43m,\u001b[49m\n\u001b[1;32m    322\u001b[0m \u001b[43m        \u001b[49m\u001b[43maccept_inplace\u001b[49m\u001b[38;5;241;43m=\u001b[39;49m\u001b[43maccept_inplace\u001b[49m\u001b[43m,\u001b[49m\n\u001b[1;32m    323\u001b[0m \u001b[43m        \u001b[49m\u001b[43mname\u001b[49m\u001b[38;5;241;43m=\u001b[39;49m\u001b[43mname\u001b[49m\u001b[43m,\u001b[49m\n\u001b[1;32m    324\u001b[0m \u001b[43m        \u001b[49m\u001b[43mrebuild_strict\u001b[49m\u001b[38;5;241;43m=\u001b[39;49m\u001b[43mrebuild_strict\u001b[49m\u001b[43m,\u001b[49m\n\u001b[1;32m    325\u001b[0m \u001b[43m        \u001b[49m\u001b[43mallow_input_downcast\u001b[49m\u001b[38;5;241;43m=\u001b[39;49m\u001b[43mallow_input_downcast\u001b[49m\u001b[43m,\u001b[49m\n\u001b[1;32m    326\u001b[0m \u001b[43m        \u001b[49m\u001b[43mon_unused_input\u001b[49m\u001b[38;5;241;43m=\u001b[39;49m\u001b[43mon_unused_input\u001b[49m\u001b[43m,\u001b[49m\n\u001b[1;32m    327\u001b[0m \u001b[43m        \u001b[49m\u001b[43mprofile\u001b[49m\u001b[38;5;241;43m=\u001b[39;49m\u001b[43mprofile\u001b[49m\u001b[43m,\u001b[49m\n\u001b[1;32m    328\u001b[0m \u001b[43m        \u001b[49m\u001b[43moutput_keys\u001b[49m\u001b[38;5;241;43m=\u001b[39;49m\u001b[43moutput_keys\u001b[49m\u001b[43m,\u001b[49m\n\u001b[1;32m    329\u001b[0m \u001b[43m    \u001b[49m\u001b[43m)\u001b[49m\n\u001b[1;32m    330\u001b[0m \u001b[38;5;28;01mreturn\u001b[39;00m fn\n",
      "File \u001b[0;32m~/miniforge3/envs/pymc_course/lib/python3.12/site-packages/pytensor/compile/function/pfunc.py:453\u001b[0m, in \u001b[0;36mpfunc\u001b[0;34m(params, outputs, mode, updates, givens, no_default_updates, accept_inplace, name, rebuild_strict, allow_input_downcast, profile, on_unused_input, output_keys, fgraph)\u001b[0m\n\u001b[1;32m    450\u001b[0m \u001b[38;5;28;01melif\u001b[39;00m \u001b[38;5;28misinstance\u001b[39m(profile, \u001b[38;5;28mstr\u001b[39m):\n\u001b[1;32m    451\u001b[0m     profile \u001b[38;5;241m=\u001b[39m ProfileStats(message\u001b[38;5;241m=\u001b[39mprofile)\n\u001b[0;32m--> 453\u001b[0m inputs, cloned_outputs \u001b[38;5;241m=\u001b[39m \u001b[43mconstruct_pfunc_ins_and_outs\u001b[49m\u001b[43m(\u001b[49m\n\u001b[1;32m    454\u001b[0m \u001b[43m    \u001b[49m\u001b[43mparams\u001b[49m\u001b[43m,\u001b[49m\n\u001b[1;32m    455\u001b[0m \u001b[43m    \u001b[49m\u001b[43moutputs\u001b[49m\u001b[43m,\u001b[49m\n\u001b[1;32m    456\u001b[0m \u001b[43m    \u001b[49m\u001b[43mmode\u001b[49m\u001b[43m,\u001b[49m\n\u001b[1;32m    457\u001b[0m \u001b[43m    \u001b[49m\u001b[43mupdates\u001b[49m\u001b[43m,\u001b[49m\n\u001b[1;32m    458\u001b[0m \u001b[43m    \u001b[49m\u001b[43mgivens\u001b[49m\u001b[43m,\u001b[49m\n\u001b[1;32m    459\u001b[0m \u001b[43m    \u001b[49m\u001b[43mno_default_updates\u001b[49m\u001b[43m,\u001b[49m\n\u001b[1;32m    460\u001b[0m \u001b[43m    \u001b[49m\u001b[43mrebuild_strict\u001b[49m\u001b[43m,\u001b[49m\n\u001b[1;32m    461\u001b[0m \u001b[43m    \u001b[49m\u001b[43mallow_input_downcast\u001b[49m\u001b[43m,\u001b[49m\n\u001b[1;32m    462\u001b[0m \u001b[43m    \u001b[49m\u001b[43mfgraph\u001b[49m\u001b[38;5;241;43m=\u001b[39;49m\u001b[43mfgraph\u001b[49m\u001b[43m,\u001b[49m\n\u001b[1;32m    463\u001b[0m \u001b[43m\u001b[49m\u001b[43m)\u001b[49m\n\u001b[1;32m    465\u001b[0m \u001b[38;5;28;01mreturn\u001b[39;00m orig_function(\n\u001b[1;32m    466\u001b[0m     inputs,\n\u001b[1;32m    467\u001b[0m     cloned_outputs,\n\u001b[0;32m   (...)\u001b[0m\n\u001b[1;32m    474\u001b[0m     fgraph\u001b[38;5;241m=\u001b[39mfgraph,\n\u001b[1;32m    475\u001b[0m )\n",
      "File \u001b[0;32m~/miniforge3/envs/pymc_course/lib/python3.12/site-packages/pytensor/compile/function/pfunc.py:535\u001b[0m, in \u001b[0;36mconstruct_pfunc_ins_and_outs\u001b[0;34m(params, outputs, mode, updates, givens, no_default_updates, rebuild_strict, allow_input_downcast, fgraph)\u001b[0m\n\u001b[1;32m    529\u001b[0m     \u001b[38;5;28;01mraise\u001b[39;00m \u001b[38;5;167;01mTypeError\u001b[39;00m(\n\u001b[1;32m    530\u001b[0m         \u001b[38;5;124m\"\u001b[39m\u001b[38;5;124mThe `updates` parameter must be an ordered mapping or a list of pairs\u001b[39m\u001b[38;5;124m\"\u001b[39m\n\u001b[1;32m    531\u001b[0m     )\n\u001b[1;32m    533\u001b[0m \u001b[38;5;66;03m# Transform params into pytensor.compile.In objects.\u001b[39;00m\n\u001b[1;32m    534\u001b[0m inputs \u001b[38;5;241m=\u001b[39m [\n\u001b[0;32m--> 535\u001b[0m     \u001b[43m_pfunc_param_to_in\u001b[49m\u001b[43m(\u001b[49m\u001b[43mp\u001b[49m\u001b[43m,\u001b[49m\u001b[43m \u001b[49m\u001b[43mallow_downcast\u001b[49m\u001b[38;5;241;43m=\u001b[39;49m\u001b[43mallow_input_downcast\u001b[49m\u001b[43m)\u001b[49m \u001b[38;5;28;01mfor\u001b[39;00m p \u001b[38;5;129;01min\u001b[39;00m params\n\u001b[1;32m    536\u001b[0m ]\n\u001b[1;32m    538\u001b[0m \u001b[38;5;66;03m# Check if some variable is present more than once in inputs\u001b[39;00m\n\u001b[1;32m    539\u001b[0m in_variables \u001b[38;5;241m=\u001b[39m [\u001b[38;5;28minput\u001b[39m\u001b[38;5;241m.\u001b[39mvariable \u001b[38;5;28;01mfor\u001b[39;00m \u001b[38;5;28minput\u001b[39m \u001b[38;5;129;01min\u001b[39;00m inputs]\n",
      "File \u001b[0;32m~/miniforge3/envs/pymc_course/lib/python3.12/site-packages/pytensor/compile/function/pfunc.py:667\u001b[0m, in \u001b[0;36m_pfunc_param_to_in\u001b[0;34m(param, strict, allow_downcast)\u001b[0m\n\u001b[1;32m    665\u001b[0m \u001b[38;5;28;01melif\u001b[39;00m \u001b[38;5;28misinstance\u001b[39m(param, In):\n\u001b[1;32m    666\u001b[0m     \u001b[38;5;28;01mreturn\u001b[39;00m param\n\u001b[0;32m--> 667\u001b[0m \u001b[38;5;28;01mraise\u001b[39;00m \u001b[38;5;167;01mTypeError\u001b[39;00m(\u001b[38;5;124mf\u001b[39m\u001b[38;5;124m\"\u001b[39m\u001b[38;5;124mUnknown parameter type: \u001b[39m\u001b[38;5;132;01m{\u001b[39;00m\u001b[38;5;28mtype\u001b[39m(param)\u001b[38;5;132;01m}\u001b[39;00m\u001b[38;5;124m\"\u001b[39m)\n",
      "\u001b[0;31mTypeError\u001b[0m: Unknown parameter type: <class 'NoneType'>"
     ]
    }
   ],
   "source": [
    "import numpy as np\n",
    "\n",
    "def make_vector():\n",
    "    \"\"\"\n",
    "    Create and return a new Aesara vector.\n",
    "    \"\"\"\n",
    "\n",
    "    pass\n",
    "\n",
    "def make_matrix():\n",
    "    \"\"\"\n",
    "    Create and return a new Aesara matrix.\n",
    "    \"\"\"\n",
    "\n",
    "    pass\n",
    "\n",
    "def elemwise_mul(a, b):\n",
    "    \"\"\"\n",
    "    a: An PyTensor matrix\n",
    "    b: An PyTensor matrix\n",
    "    \n",
    "    Calcuate the elementwise product of a and b and return it\n",
    "    \"\"\"\n",
    "\n",
    "    pass\n",
    "\n",
    "def matrix_vector_mul(a, b):\n",
    "    \"\"\"\n",
    "    a: An PyTensor matrix\n",
    "    b: An PyTensor vector\n",
    "    \n",
    "    Calculate the matrix-vector product of a and b and return it\n",
    "    \"\"\"\n",
    "\n",
    "    pass\n",
    "\n",
    "a = make_vector()\n",
    "b = make_vector()\n",
    "c = elemwise_mul(a, b)\n",
    "d = make_matrix()\n",
    "e = matrix_vector_mul(d, c)\n",
    "\n",
    "f = pytensor.function([a, b, d], e)\n",
    "\n",
    "rng = np.random.RandomState([1, 2, 3])\n",
    "a_value = rng.randn(5).astype(a.dtype)\n",
    "b_value = rng.rand(5).astype(b.dtype)\n",
    "c_value = a_value * b_value\n",
    "d_value = rng.randn(5, 5).astype(d.dtype)\n",
    "expected = np.dot(d_value, c_value)\n",
    "\n",
    "actual = f(a_value, b_value, d_value)\n",
    "\n",
    "assert np.allclose(actual, expected)\n",
    "print(\"SUCCESS!\")"
   ]
  },
  {
   "attachments": {},
   "cell_type": "markdown",
   "metadata": {},
   "source": [
    "### Example: Logistic regression\n",
    "\n",
    "Here is a non-trivial example, which uses PyTensor to estimate the parameters of a logistic regression model using gradient information. We will use a bioassay example as a test case.\n",
    "\n",
    "Gelman et al. (2003) present an example of an acute toxicity test, commonly performed on animals to estimate the toxicity of various compounds.\n",
    "\n",
    "In this dataset `log_dose` includes 4 levels of dosage, on the log scale, each administered to 5 rats during the experiment. The response variable is `death`, the number of positive responses to the dosage.\n",
    "\n",
    "The number of deaths can be modeled as a binomial response, with the probability of death being a linear function of dose:\n",
    "\n",
    "$$\\begin{aligned}\n",
    "y_i &\\sim \\text{Bin}(n_i, p_i) \\\\\n",
    "\\text{logit}(p_i) &= a + b x_i\n",
    "\\end{aligned}$$\n",
    "\n",
    "The common statistic of interest in such experiments is the **LD50**, the dosage at which the probability of death is 50%."
   ]
  },
  {
   "cell_type": "code",
   "execution_count": 17,
   "metadata": {},
   "outputs": [],
   "source": [
    "import numpy as np\n",
    "\n",
    "rng = np.random\n",
    "\n",
    "dose = np.array([-0.86, -0.3 , -0.05,  0.73])\n",
    "deaths = np.array([0, 1, 3, 5])\n",
    "training_steps = 1000"
   ]
  },
  {
   "attachments": {},
   "cell_type": "markdown",
   "metadata": {},
   "source": [
    "First, let's declare our symbolic variables.\n",
    "\n",
    "This code introduces a few new concepts. The `shared` function constructs so-called shared variables. These are hybrid symbolic and non-symbolic variables whose value may be shared between multiple functions. Shared variables can be used in symbolic expressions just like the objects returned by `dmatrices` but they also have an internal value that defines the value taken by this symbolic variable in all the functions that use it. It is called a shared variable because its value is shared between many functions. The value can be accessed and modified by the `get_value()` and `set_value()` methods"
   ]
  },
  {
   "cell_type": "code",
   "execution_count": 18,
   "metadata": {},
   "outputs": [
    {
     "name": "stdout",
     "output_type": "stream",
     "text": [
      "Initial model: 0.0 1.0\n"
     ]
    }
   ],
   "source": [
    "X = pt.vector(\"X\")\n",
    "Y = pt.vector(\"Y\")\n",
    "b = pytensor.shared(1., name=\"b\")\n",
    "a = pytensor.shared(0., name=\"a\")\n",
    "\n",
    "print(\"Initial model:\", a.get_value(), b.get_value())"
   ]
  },
  {
   "attachments": {},
   "cell_type": "markdown",
   "metadata": {},
   "source": [
    "... then construct the expression graph:"
   ]
  },
  {
   "cell_type": "code",
   "execution_count": 19,
   "metadata": {},
   "outputs": [],
   "source": [
    "# Probability that target = 1\n",
    "p_1 = 1 / (1 + pt.exp(-(a +X*b))) \n",
    "\n",
    "# The prediction threshold\n",
    "prediction = p_1 > 0.5         \n",
    "\n",
    "# Cross-entropy loss function\n",
    "xent = -Y * pt.log(p_1) - (5-Y) * pt.log(1-p_1) \n",
    "\n",
    "# The cost to minimize\n",
    "cost = xent.mean()      \n",
    "\n",
    "# Compute the gradient of the cost\n",
    "ga, gb = pt.grad(cost, [a, b])                  "
   ]
  },
  {
   "attachments": {},
   "cell_type": "markdown",
   "metadata": {},
   "source": [
    "Compile PyTensor functions for training the model and predicting from it."
   ]
  },
  {
   "cell_type": "code",
   "execution_count": 21,
   "metadata": {},
   "outputs": [],
   "source": [
    "step = pytensor.shared(10., name='step')\n",
    "train = pytensor.function(\n",
    "          inputs=[X, Y],\n",
    "          outputs=[prediction, xent],\n",
    "          updates=((a, a - step * ga), (b, b - step * gb), (step, step * 0.99)),\n",
    "          mode='NUMBA')\n",
    "predict = pytensor.function(inputs=[X], outputs=prediction, mode='NUMBA')"
   ]
  },
  {
   "attachments": {},
   "cell_type": "markdown",
   "metadata": {},
   "source": [
    "Now we can train the model!"
   ]
  },
  {
   "cell_type": "code",
   "execution_count": 22,
   "metadata": {},
   "outputs": [
    {
     "name": "stdout",
     "output_type": "stream",
     "text": [
      "Final model: 0.8536420249683849 7.7951524575384346\n"
     ]
    }
   ],
   "source": [
    "for i in range(training_steps):\n",
    "    pred, err = train(dose, deaths)\n",
    "    \n",
    "a_value, b_value = a.get_value(), b.get_value()\n",
    "\n",
    "print(\"Final model:\", a_value, b_value)"
   ]
  },
  {
   "cell_type": "code",
   "execution_count": 23,
   "metadata": {},
   "outputs": [
    {
     "data": {
      "text/plain": [
       "[<matplotlib.lines.Line2D at 0x7fd50bcd47d0>]"
      ]
     },
     "execution_count": 23,
     "metadata": {},
     "output_type": "execute_result"
    },
    {
     "data": {
      "image/png": "[encoded data removed]",
      "text/plain": [
       "<Figure size 640x480 with 1 Axes>"
      ]
     },
     "metadata": {},
     "output_type": "display_data"
    }
   ],
   "source": [
    "%matplotlib inline\n",
    "import matplotlib.pyplot as plt\n",
    "\n",
    "logit = lambda x: 1. / (1 + np.exp(-x))\n",
    "xvals = np.linspace(-1, 1)\n",
    "plt.plot(xvals, logit(b_value*xvals + a_value))\n",
    "plt.plot(dose, deaths/5., 'ro')"
   ]
  },
  {
   "attachments": {},
   "cell_type": "markdown",
   "metadata": {},
   "source": [
    "### Exercise\n",
    "\n",
    "How do we obtain LD50 (the dose for which there is 50% mortality) from the model?"
   ]
  },
  {
   "cell_type": "code",
   "execution_count": null,
   "metadata": {},
   "outputs": [],
   "source": [
    "# Write your answer here"
   ]
  },
  {
   "attachments": {},
   "cell_type": "markdown",
   "metadata": {},
   "source": [
    "### Graph manipulation 101\n",
    "\n",
    "Another interesting feature of PyTensor is the ability to manipulate the computational graph, something that is not possible with TensorFlow or PyTorch. Here we continue with the example above in order to illustrate the main idea around this technique."
   ]
  },
  {
   "cell_type": "code",
   "execution_count": 24,
   "metadata": {},
   "outputs": [
    {
     "data": {
      "text/plain": [
       "[x, y]"
      ]
     },
     "execution_count": 24,
     "metadata": {},
     "output_type": "execute_result"
    }
   ],
   "source": [
    "# get input tensors\n",
    "list(pytensor.graph.graph_inputs(graphs=[w]))"
   ]
  },
  {
   "attachments": {},
   "cell_type": "markdown",
   "metadata": {},
   "source": [
    "As a simple example, let's add an `pytensor.tensor.exp` before the `pytensor.tensor.log` (to get the identity function)."
   ]
  },
  {
   "cell_type": "code",
   "execution_count": 25,
   "metadata": {},
   "outputs": [],
   "source": [
    "parent_of_w = w.owner.inputs[0]  # get z tensor\n",
    "new_parent_of_w = pt.exp(parent_of_w)  # modify the parent of w\n",
    "new_parent_of_w.name = \"exp(x + y)\""
   ]
  },
  {
   "attachments": {},
   "cell_type": "markdown",
   "metadata": {},
   "source": [
    "Note that the graph of `w` has actually not changed:"
   ]
  },
  {
   "cell_type": "code",
   "execution_count": 26,
   "metadata": {},
   "outputs": [
    {
     "name": "stdout",
     "output_type": "stream",
     "text": [
      "Log [id A] 'log(x + y)'\n",
      " └─ Add [id B] 'x + y'\n",
      "    ├─ ExpandDims{axis=0} [id C]\n",
      "    │  └─ x [id D]\n",
      "    └─ y [id E]\n"
     ]
    },
    {
     "data": {
      "text/plain": [
       "<ipykernel.iostream.OutStream at 0x7fd5c5e360b0>"
      ]
     },
     "execution_count": 26,
     "metadata": {},
     "output_type": "execute_result"
    }
   ],
   "source": [
    "pytensor.dprint(w)"
   ]
  },
  {
   "attachments": {},
   "cell_type": "markdown",
   "metadata": {},
   "source": [
    "To modify the graph we need to use the `pytensor.clone_replace` function, which *returns a copy of the initial subgraph with the corresponding substitutions.*"
   ]
  },
  {
   "cell_type": "code",
   "execution_count": 27,
   "metadata": {},
   "outputs": [
    {
     "name": "stdout",
     "output_type": "stream",
     "text": [
      "Log [id A] 'log(exp(x + y))'\n",
      " └─ Exp [id B] 'exp(x + y)'\n",
      "    └─ Add [id C] 'x + y'\n",
      "       ├─ ExpandDims{axis=0} [id D]\n",
      "       │  └─ x [id E]\n",
      "       └─ y [id F]\n"
     ]
    },
    {
     "data": {
      "text/plain": [
       "<ipykernel.iostream.OutStream at 0x7fd5c5e360b0>"
      ]
     },
     "execution_count": 27,
     "metadata": {},
     "output_type": "execute_result"
    }
   ],
   "source": [
    "new_w = pytensor.clone_replace(output=[w], replace={parent_of_w: new_parent_of_w})[0]\n",
    "new_w.name = \"log(exp(x + y))\"\n",
    "pytensor.dprint(new_w)"
   ]
  },
  {
   "attachments": {},
   "cell_type": "markdown",
   "metadata": {},
   "source": [
    "Finally, we can test the modified graph by passing some input to the new graph."
   ]
  },
  {
   "cell_type": "code",
   "execution_count": 28,
   "metadata": {},
   "outputs": [
    {
     "data": {
      "text/plain": [
       "array([1.        , 2.71828183])"
      ]
     },
     "execution_count": 28,
     "metadata": {},
     "output_type": "execute_result"
    }
   ],
   "source": [
    "new_w.eval({x: 0, y: [1, np.e]})"
   ]
  },
  {
   "attachments": {},
   "cell_type": "markdown",
   "metadata": {},
   "source": [
    "As expected, the new graph is just the identity function."
   ]
  },
  {
   "attachments": {},
   "cell_type": "markdown",
   "metadata": {},
   "source": [
    "> NOTE:\n",
    "> Again, note that `pytensor` is clever enough to omit the `exp` and `log` once we compile the function."
   ]
  },
  {
   "cell_type": "code",
   "execution_count": 29,
   "metadata": {},
   "outputs": [
    {
     "name": "stdout",
     "output_type": "stream",
     "text": [
      "Add [id A] 'x + y' 1\n",
      " ├─ ExpandDims{axis=0} [id B] 0\n",
      " │  └─ x [id C]\n",
      " └─ y [id D]\n"
     ]
    },
    {
     "data": {
      "text/plain": [
       "<ipykernel.iostream.OutStream at 0x7fd5c5e360b0>"
      ]
     },
     "execution_count": 29,
     "metadata": {},
     "output_type": "execute_result"
    }
   ],
   "source": [
    "f = pytensor.function(inputs=[x, y], outputs=new_w)\n",
    "\n",
    "pytensor.dprint(f)"
   ]
  },
  {
   "cell_type": "code",
   "execution_count": 30,
   "metadata": {},
   "outputs": [
    {
     "data": {
      "text/plain": [
       "array([1.        , 2.71828183])"
      ]
     },
     "execution_count": 30,
     "metadata": {},
     "output_type": "execute_result"
    }
   ],
   "source": [
    "f(x=0, y=[1, np.e])"
   ]
  },
  {
   "attachments": {},
   "cell_type": "markdown",
   "metadata": {},
   "source": [
    "### PyTensor RandomVariables\n",
    "\n",
    "Now that we have seen pytensor's basics we want to move in the direction of random variables.\n",
    "\n",
    "How do we generate random numbers in [`numpy`](https://github.com/numpy/numpy)? To illustrate it we can sample from a normal distribution:"
   ]
  },
  {
   "cell_type": "code",
   "execution_count": 31,
   "metadata": {},
   "outputs": [
    {
     "data": {
      "image/png": "[encoded data removed]",
      "text/plain": [
       "<Figure size 800x600 with 1 Axes>"
      ]
     },
     "metadata": {},
     "output_type": "display_data"
    }
   ],
   "source": [
    "a = np.random.normal(loc=0, scale=1, size=1_000)\n",
    "\n",
    "fig, ax = plt.subplots(figsize=(8, 6))\n",
    "ax.hist(a, color=\"C0\", bins=15)\n",
    "ax.set(title=\"Samples from a normal distribution using numpy\", ylabel=\"count\");"
   ]
  },
  {
   "attachments": {},
   "cell_type": "markdown",
   "metadata": {},
   "source": [
    "Now let's try to do it in PyTensor."
   ]
  },
  {
   "cell_type": "code",
   "execution_count": 32,
   "metadata": {},
   "outputs": [
    {
     "data": {
      "text/plain": [
       "TensorType(float64, shape=())"
      ]
     },
     "execution_count": 32,
     "metadata": {},
     "output_type": "execute_result"
    }
   ],
   "source": [
    "y = pt.random.normal(loc=0, scale=1, name=\"y\")\n",
    "y.type"
   ]
  },
  {
   "attachments": {},
   "cell_type": "markdown",
   "metadata": {},
   "source": [
    "Next, we show the graph using `pytensor.dprint`."
   ]
  },
  {
   "cell_type": "code",
   "execution_count": 33,
   "metadata": {},
   "outputs": [
    {
     "name": "stdout",
     "output_type": "stream",
     "text": [
      "normal_rv{0, (0, 0), floatX, False}.1 [id A] 'y'\n",
      " ├─ RandomGeneratorSharedVariable(<Generator(PCG64) at 0x7FD50B8F3A00>) [id B]\n",
      " ├─ [] [id C]\n",
      " ├─ 11 [id D]\n",
      " ├─ 0 [id E]\n",
      " └─ 1 [id F]\n"
     ]
    },
    {
     "data": {
      "text/plain": [
       "<ipykernel.iostream.OutStream at 0x7fd5c5e360b0>"
      ]
     },
     "execution_count": 33,
     "metadata": {},
     "output_type": "execute_result"
    }
   ],
   "source": [
    "pytensor.dprint(y)"
   ]
  },
  {
   "attachments": {},
   "cell_type": "markdown",
   "metadata": {},
   "source": [
    "The inputs are always in the following order:\n",
    "1. `rng` shared variable\n",
    "2. `size`\n",
    "3. `dtype` (number code)\n",
    "4. `arg1`, `arg2` ... `argn`"
   ]
  },
  {
   "attachments": {},
   "cell_type": "markdown",
   "metadata": {},
   "source": [
    "We *could* sample by calling `eval()`. on the random variable."
   ]
  },
  {
   "cell_type": "code",
   "execution_count": 34,
   "metadata": {},
   "outputs": [
    {
     "data": {
      "text/plain": [
       "array(-1.86179423)"
      ]
     },
     "execution_count": 34,
     "metadata": {},
     "output_type": "execute_result"
    }
   ],
   "source": [
    "y.eval()"
   ]
  },
  {
   "attachments": {},
   "cell_type": "markdown",
   "metadata": {},
   "source": [
    "Note however that these samples are always the same!"
   ]
  },
  {
   "cell_type": "code",
   "execution_count": 35,
   "metadata": {},
   "outputs": [
    {
     "name": "stdout",
     "output_type": "stream",
     "text": [
      "Sample 0: -1.861794228378853\n",
      "Sample 1: -1.861794228378853\n",
      "Sample 2: -1.861794228378853\n",
      "Sample 3: -1.861794228378853\n",
      "Sample 4: -1.861794228378853\n",
      "Sample 5: -1.861794228378853\n",
      "Sample 6: -1.861794228378853\n",
      "Sample 7: -1.861794228378853\n",
      "Sample 8: -1.861794228378853\n",
      "Sample 9: -1.861794228378853\n"
     ]
    }
   ],
   "source": [
    "for i in range(10):\n",
    "    print(f\"Sample {i}: {y.eval()}\")"
   ]
  },
  {
   "attachments": {},
   "cell_type": "markdown",
   "metadata": {},
   "source": [
    "We always get the same samples! This has to do with the random seed step in the graph, i.e. `RandomGeneratorSharedVariable` (we will not go deeper into this subject here). We will show how to generate different samples with `pymc` below."
   ]
  },
  {
   "attachments": {},
   "cell_type": "markdown",
   "metadata": {},
   "source": [
    "To do so, we start by defining a `pymc` normal distribution."
   ]
  },
  {
   "cell_type": "code",
   "execution_count": 36,
   "metadata": {},
   "outputs": [
    {
     "name": "stdout",
     "output_type": "stream",
     "text": [
      "normal_rv{0, (0, 0), floatX, False}.1 [id A]\n",
      " ├─ RandomGeneratorSharedVariable(<Generator(PCG64) at 0x7FD50B984740>) [id B]\n",
      " ├─ [] [id C]\n",
      " ├─ 11 [id D]\n",
      " ├─ 0 [id E]\n",
      " └─ 1 [id F]\n"
     ]
    },
    {
     "data": {
      "text/plain": [
       "<ipykernel.iostream.OutStream at 0x7fd5c5e360b0>"
      ]
     },
     "execution_count": 36,
     "metadata": {},
     "output_type": "execute_result"
    }
   ],
   "source": [
    "x = pm.Normal.dist(mu=0, sigma=1)\n",
    "pytensor.dprint(x)"
   ]
  },
  {
   "attachments": {},
   "cell_type": "markdown",
   "metadata": {},
   "source": [
    "Observe that `x` is just a normal `RandomVariable` and which is the same as `y` except for the `rng`."
   ]
  },
  {
   "attachments": {},
   "cell_type": "markdown",
   "metadata": {},
   "source": [
    "We can try to generate samples by calling `eval()` as above."
   ]
  },
  {
   "cell_type": "code",
   "execution_count": 37,
   "metadata": {},
   "outputs": [
    {
     "name": "stdout",
     "output_type": "stream",
     "text": [
      "Sample 0: 0.5806989992881778\n",
      "Sample 1: 0.5806989992881778\n",
      "Sample 2: 0.5806989992881778\n",
      "Sample 3: 0.5806989992881778\n",
      "Sample 4: 0.5806989992881778\n",
      "Sample 5: 0.5806989992881778\n",
      "Sample 6: 0.5806989992881778\n",
      "Sample 7: 0.5806989992881778\n",
      "Sample 8: 0.5806989992881778\n",
      "Sample 9: 0.5806989992881778\n"
     ]
    }
   ],
   "source": [
    "for i in range(10):\n",
    "    print(f\"Sample {i}: {x.eval()}\")"
   ]
  },
  {
   "attachments": {},
   "cell_type": "markdown",
   "metadata": {},
   "source": [
    "As before we get the same value for all iterations. The correct way to generate random samples is using `pymc.draw`."
   ]
  },
  {
   "cell_type": "code",
   "execution_count": 38,
   "metadata": {},
   "outputs": [
    {
     "data": {
      "image/png": "[encoded data removed]",
      "text/plain": [
       "<Figure size 800x600 with 1 Axes>"
      ]
     },
     "metadata": {},
     "output_type": "display_data"
    }
   ],
   "source": [
    "fig, ax = plt.subplots(figsize=(8, 6))\n",
    "ax.hist(pm.draw(x, draws=1_000), color=\"C1\", bins=15)\n",
    "ax.set(title=\"Samples from a normal distribution using pymc\", ylabel=\"count\");"
   ]
  },
  {
   "attachments": {},
   "cell_type": "markdown",
   "metadata": {},
   "source": [
    "Yay! We learned how to sample from a `pymc` distribution!"
   ]
  },
  {
   "attachments": {},
   "cell_type": "markdown",
   "metadata": {},
   "source": [
    "### What is going on behind the scenes?"
   ]
  },
  {
   "attachments": {},
   "cell_type": "markdown",
   "metadata": {},
   "source": [
    "We can now look into how this is done inside a `pymc.Model`."
   ]
  },
  {
   "cell_type": "code",
   "execution_count": 39,
   "metadata": {},
   "outputs": [
    {
     "name": "stdout",
     "output_type": "stream",
     "text": [
      "normal_rv{0, (0, 0), floatX, False}.1 [id A] 'z'\n",
      " ├─ RandomGeneratorSharedVariable(<Generator(PCG64) at 0x7FD5037C7BC0>) [id B]\n",
      " ├─ [] [id C]\n",
      " ├─ 11 [id D]\n",
      " ├─ [0 0] [id E]\n",
      " └─ [1 2] [id F]\n"
     ]
    },
    {
     "data": {
      "text/plain": [
       "<ipykernel.iostream.OutStream at 0x7fd5c5e360b0>"
      ]
     },
     "execution_count": 39,
     "metadata": {},
     "output_type": "execute_result"
    }
   ],
   "source": [
    "with pm.Model() as model:\n",
    "    z = pm.Normal(name=\"z\", mu=np.array([0, 0]), sigma=np.array([1, 2]))\n",
    "\n",
    "pytensor.dprint(z)"
   ]
  },
  {
   "attachments": {},
   "cell_type": "markdown",
   "metadata": {},
   "source": [
    "We are just creating random variables like we saw before, but now registering them in a `pymc` model. To extract the list of random variables we can simply do:"
   ]
  },
  {
   "cell_type": "code",
   "execution_count": 40,
   "metadata": {},
   "outputs": [
    {
     "data": {
      "text/plain": [
       "[z ~ Normal(<constant>, <constant>)]"
      ]
     },
     "execution_count": 40,
     "metadata": {},
     "output_type": "execute_result"
    }
   ],
   "source": [
    "model.basic_RVs"
   ]
  },
  {
   "cell_type": "code",
   "execution_count": 41,
   "metadata": {},
   "outputs": [
    {
     "name": "stdout",
     "output_type": "stream",
     "text": [
      "normal_rv{0, (0, 0), floatX, False}.1 [id A] 'z'\n",
      " ├─ RandomGeneratorSharedVariable(<Generator(PCG64) at 0x7FD5037C7BC0>) [id B]\n",
      " ├─ [] [id C]\n",
      " ├─ 11 [id D]\n",
      " ├─ [0 0] [id E]\n",
      " └─ [1 2] [id F]\n"
     ]
    },
    {
     "data": {
      "text/plain": [
       "<ipykernel.iostream.OutStream at 0x7fd5c5e360b0>"
      ]
     },
     "execution_count": 41,
     "metadata": {},
     "output_type": "execute_result"
    }
   ],
   "source": [
    "pytensor.dprint(model.basic_RVs[0])"
   ]
  },
  {
   "attachments": {},
   "cell_type": "markdown",
   "metadata": {},
   "source": [
    "We can try to sample via `eval()` as above and it is no surprise that we are getting the same samples at each iteration."
   ]
  },
  {
   "cell_type": "code",
   "execution_count": 42,
   "metadata": {},
   "outputs": [
    {
     "name": "stdout",
     "output_type": "stream",
     "text": [
      "Sample 0: [-1.56426237 -1.00841209]\n",
      "Sample 1: [-1.56426237 -1.00841209]\n",
      "Sample 2: [-1.56426237 -1.00841209]\n",
      "Sample 3: [-1.56426237 -1.00841209]\n",
      "Sample 4: [-1.56426237 -1.00841209]\n",
      "Sample 5: [-1.56426237 -1.00841209]\n",
      "Sample 6: [-1.56426237 -1.00841209]\n",
      "Sample 7: [-1.56426237 -1.00841209]\n",
      "Sample 8: [-1.56426237 -1.00841209]\n",
      "Sample 9: [-1.56426237 -1.00841209]\n"
     ]
    }
   ],
   "source": [
    "for i in range(10):\n",
    "    print(f\"Sample {i}: {z.eval()}\")"
   ]
  },
  {
   "attachments": {},
   "cell_type": "markdown",
   "metadata": {},
   "source": [
    "Again, the correct way of sampling is via `pymc.draw`. "
   ]
  },
  {
   "cell_type": "code",
   "execution_count": 43,
   "metadata": {},
   "outputs": [
    {
     "name": "stdout",
     "output_type": "stream",
     "text": [
      "Sample 0: [-0.79708044  0.02963011]\n",
      "Sample 1: [ 0.01243505 -1.31449447]\n",
      "Sample 2: [-0.06955027  0.71146123]\n",
      "Sample 3: [-0.02040464  1.85911103]\n",
      "Sample 4: [-0.61046639 -2.4681048 ]\n",
      "Sample 5: [-0.40168971  2.15228663]\n",
      "Sample 6: [-0.14299869  1.70416964]\n",
      "Sample 7: [ 0.90905609 -2.20994174]\n",
      "Sample 8: [ 0.60445339 -0.80718181]\n",
      "Sample 9: [-0.30350106  0.54720149]\n"
     ]
    }
   ],
   "source": [
    "for i in range(10):\n",
    "    print(f\"Sample {i}: {pm.draw(z)}\")"
   ]
  },
  {
   "cell_type": "code",
   "execution_count": 44,
   "metadata": {},
   "outputs": [
    {
     "data": {
      "image/png": "[encoded data removed]",
      "text/plain": [
       "<Figure size 800x800 with 1 Axes>"
      ]
     },
     "metadata": {},
     "output_type": "display_data"
    }
   ],
   "source": [
    "fig, ax = plt.subplots(figsize=(8, 8))\n",
    "z_draws = pm.draw(vars=z, draws=10_000)\n",
    "ax.hist2d(x=z_draws[:, 0], y=z_draws[:, 1], bins=25)\n",
    "ax.set(title=\"Samples Histogram\");"
   ]
  },
  {
   "attachments": {},
   "cell_type": "markdown",
   "metadata": {},
   "source": [
    "### Enough with Random Variables, I want to see some (log)probabilities!"
   ]
  },
  {
   "attachments": {},
   "cell_type": "markdown",
   "metadata": {},
   "source": [
    "Recall we have defined the following model above:"
   ]
  },
  {
   "cell_type": "code",
   "execution_count": 45,
   "metadata": {},
   "outputs": [
    {
     "data": {
      "text/latex": [
       "$$\n",
       "            \\begin{array}{rcl}\n",
       "            \\text{z} &\\sim & \\operatorname{Normal}(\\text{<constant>},~\\text{<constant>})\n",
       "            \\end{array}\n",
       "            $$"
      ],
      "text/plain": [
       "z ~ Normal(<constant>, <constant>)"
      ]
     },
     "execution_count": 45,
     "metadata": {},
     "output_type": "execute_result"
    }
   ],
   "source": [
    "model"
   ]
  },
  {
   "attachments": {},
   "cell_type": "markdown",
   "metadata": {},
   "source": [
    "`pymc` is able to convert `RandomVariable`s to their respective probability functions. One simple way is to use `pymc.logp`, which takes as first input a RandomVariable, and as second input the value at which the logp is evaluated (we will discuss this in more detail later)."
   ]
  },
  {
   "cell_type": "code",
   "execution_count": 46,
   "metadata": {},
   "outputs": [],
   "source": [
    "z_value = pt.vector(name=\"z\")\n",
    "z_logp = pm.logp(rv=z, value=z_value)"
   ]
  },
  {
   "attachments": {},
   "cell_type": "markdown",
   "metadata": {},
   "source": [
    "`z_logp` contains the PyTensor graph that represents the log-probability of the normal random variable `z`, evaluated at `z_value`."
   ]
  },
  {
   "cell_type": "code",
   "execution_count": 47,
   "metadata": {},
   "outputs": [
    {
     "name": "stdout",
     "output_type": "stream",
     "text": [
      "Check{sigma > 0} [id A] 'z_logprob'\n",
      " ├─ Sub [id B]\n",
      " │  ├─ Sub [id C]\n",
      " │  │  ├─ Mul [id D]\n",
      " │  │  │  ├─ ExpandDims{axis=0} [id E]\n",
      " │  │  │  │  └─ -0.5 [id F]\n",
      " │  │  │  └─ Pow [id G]\n",
      " │  │  │     ├─ True_div [id H]\n",
      " │  │  │     │  ├─ Sub [id I]\n",
      " │  │  │     │  │  ├─ z [id J]\n",
      " │  │  │     │  │  └─ [0 0] [id K]\n",
      " │  │  │     │  └─ [1 2] [id L]\n",
      " │  │  │     └─ ExpandDims{axis=0} [id M]\n",
      " │  │  │        └─ 2 [id N]\n",
      " │  │  └─ ExpandDims{axis=0} [id O]\n",
      " │  │     └─ Log [id P]\n",
      " │  │        └─ Sqrt [id Q]\n",
      " │  │           └─ 6.283185307179586 [id R]\n",
      " │  └─ Log [id S]\n",
      " │     └─ [1 2] [id L]\n",
      " └─ All{axes=None} [id T]\n",
      "    └─ MakeVector{dtype='bool'} [id U]\n",
      "       └─ All{axes=None} [id V]\n",
      "          └─ Gt [id W]\n",
      "             ├─ [1 2] [id L]\n",
      "             └─ ExpandDims{axis=0} [id X]\n",
      "                └─ 0 [id Y]\n"
     ]
    },
    {
     "data": {
      "text/plain": [
       "<ipykernel.iostream.OutStream at 0x7fd5c5e360b0>"
      ]
     },
     "execution_count": 47,
     "metadata": {},
     "output_type": "execute_result"
    }
   ],
   "source": [
    "pytensor.dprint(z_logp)"
   ]
  },
  {
   "attachments": {},
   "cell_type": "markdown",
   "metadata": {},
   "source": [
    "> TIP:\n",
    "> There is also a handy `pymc` function to compute the log cumulative probability of a random variable `pymc.logcdf`."
   ]
  },
  {
   "attachments": {},
   "cell_type": "markdown",
   "metadata": {},
   "source": [
    "Observe that, as explained at the beginning, there has been no computation yet. The actual computation is performed after compiling and passing the input. For illustration purposes alone, we will again use the handy `eval()` method."
   ]
  },
  {
   "cell_type": "code",
   "execution_count": 48,
   "metadata": {},
   "outputs": [
    {
     "data": {
      "text/plain": [
       "array([-0.91893853, -1.61208571])"
      ]
     },
     "execution_count": 48,
     "metadata": {},
     "output_type": "execute_result"
    }
   ],
   "source": [
    "z_logp.eval({z_value: [0, 0]})"
   ]
  },
  {
   "attachments": {},
   "cell_type": "markdown",
   "metadata": {},
   "source": [
    "This is nothing other than an evaluation of the log probability of a normal distribution."
   ]
  },
  {
   "cell_type": "code",
   "execution_count": 49,
   "metadata": {},
   "outputs": [
    {
     "data": {
      "text/plain": [
       "array([-0.91893853, -1.61208571])"
      ]
     },
     "execution_count": 49,
     "metadata": {},
     "output_type": "execute_result"
    }
   ],
   "source": [
    "scipy.stats.norm.logpdf(x=np.array([0, 0]), loc=np.array([0, 0]), scale=np.array([1, 2]))"
   ]
  },
  {
   "attachments": {},
   "cell_type": "markdown",
   "metadata": {},
   "source": [
    "`pymc` models provide some helpful routines to facilitate the conversion of `RandomVariable`s to probability functions. The model `logp` method, for instance can be used to extract the joint probability of all variables in the model:"
   ]
  },
  {
   "cell_type": "code",
   "execution_count": 52,
   "metadata": {},
   "outputs": [
    {
     "name": "stdout",
     "output_type": "stream",
     "text": [
      "Check{sigma > 0} [id A] 'z_logprob'\n",
      " ├─ Sub [id B]\n",
      " │  ├─ Sub [id C]\n",
      " │  │  ├─ Mul [id D]\n",
      " │  │  │  ├─ ExpandDims{axis=0} [id E]\n",
      " │  │  │  │  └─ -0.5 [id F]\n",
      " │  │  │  └─ Pow [id G]\n",
      " │  │  │     ├─ True_div [id H]\n",
      " │  │  │     │  ├─ Sub [id I]\n",
      " │  │  │     │  │  ├─ z [id J]\n",
      " │  │  │     │  │  └─ [0 0] [id K]\n",
      " │  │  │     │  └─ [1 2] [id L]\n",
      " │  │  │     └─ ExpandDims{axis=0} [id M]\n",
      " │  │  │        └─ 2 [id N]\n",
      " │  │  └─ ExpandDims{axis=0} [id O]\n",
      " │  │     └─ Log [id P]\n",
      " │  │        └─ Sqrt [id Q]\n",
      " │  │           └─ 6.283185307179586 [id R]\n",
      " │  └─ Log [id S]\n",
      " │     └─ [1 2] [id L]\n",
      " └─ All{axes=None} [id T]\n",
      "    └─ MakeVector{dtype='bool'} [id U]\n",
      "       └─ All{axes=None} [id V]\n",
      "          └─ Gt [id W]\n",
      "             ├─ [1 2] [id L]\n",
      "             └─ ExpandDims{axis=0} [id X]\n",
      "                └─ 0 [id Y]\n"
     ]
    },
    {
     "data": {
      "text/plain": [
       "<ipykernel.iostream.OutStream at 0x7fd5c5e360b0>"
      ]
     },
     "execution_count": 52,
     "metadata": {},
     "output_type": "execute_result"
    }
   ],
   "source": [
    "pytensor.dprint(model.logp(sum=False))"
   ]
  },
  {
   "attachments": {},
   "cell_type": "markdown",
   "metadata": {},
   "source": [
    "Because we only have one variable, this function is equivalent to what we obtained by manually calling `pm.logp` before. We can also use a helper method `pymc.Model.compile_logp` to return an already compiled PyTensor function of the model logp."
   ]
  },
  {
   "cell_type": "code",
   "execution_count": 53,
   "metadata": {},
   "outputs": [],
   "source": [
    "logp_function = model.compile_logp(sum=False)"
   ]
  },
  {
   "attachments": {},
   "cell_type": "markdown",
   "metadata": {},
   "source": [
    "This function expects a \"point\" dictionary as input. We could create it ourselves, but just to illustrate another useful `Model` method, let's call `Model.initial_point`, which returns the point that most samplers use when deciding where to start sampling."
   ]
  },
  {
   "cell_type": "code",
   "execution_count": 54,
   "metadata": {},
   "outputs": [
    {
     "data": {
      "text/plain": [
       "{'z': array([0., 0.])}"
      ]
     },
     "execution_count": 54,
     "metadata": {},
     "output_type": "execute_result"
    }
   ],
   "source": [
    "point = model.initial_point()\n",
    "point"
   ]
  },
  {
   "cell_type": "code",
   "execution_count": 55,
   "metadata": {},
   "outputs": [
    {
     "data": {
      "text/plain": [
       "[array([-0.91893853, -1.61208571])]"
      ]
     },
     "execution_count": 55,
     "metadata": {},
     "output_type": "execute_result"
    }
   ],
   "source": [
    "logp_function(point)"
   ]
  },
  {
   "attachments": {},
   "cell_type": "markdown",
   "metadata": {},
   "source": [
    "### What are value variables and why are they important?\n",
    "\n",
    "As he have seen above, a logp graph does not have random variables. Instead it is defined in terms of input (value) variables. When we want to sample, each random variable (RV) is replaced by a logp function evaluated at the respective input (value) variable. Let's see how this works through some examples. RV and value variables can be observed in these [`scipy`](https://github.com/scipy/scipy) operations:"
   ]
  },
  {
   "cell_type": "code",
   "execution_count": 56,
   "metadata": {},
   "outputs": [
    {
     "data": {
      "text/plain": [
       "<scipy.stats._distn_infrastructure.rv_continuous_frozen at 0x7fd50346f980>"
      ]
     },
     "execution_count": 56,
     "metadata": {},
     "output_type": "execute_result"
    }
   ],
   "source": [
    "rv = scipy.stats.norm(0, 1)\n",
    "\n",
    "# Equivalent to rv = pm.Normal(\"rv\", 0, 1)\n",
    "rv"
   ]
  },
  {
   "cell_type": "code",
   "execution_count": 57,
   "metadata": {},
   "outputs": [
    {
     "data": {
      "text/plain": [
       "array([-1.71684718, -1.1572584 ,  1.36713684])"
      ]
     },
     "execution_count": 57,
     "metadata": {},
     "output_type": "execute_result"
    }
   ],
   "source": [
    "# Equivalent to rv_draw = pm.draw(rv, 3)\n",
    "rv.rvs(3)"
   ]
  },
  {
   "cell_type": "code",
   "execution_count": 58,
   "metadata": {},
   "outputs": [
    {
     "data": {
      "text/plain": [
       "-1.7001885332046727"
      ]
     },
     "execution_count": 58,
     "metadata": {},
     "output_type": "execute_result"
    }
   ],
   "source": [
    "# Equivalent to rv_logp = pm.logp(rv, 1.25)\n",
    "rv.logpdf(1.25)"
   ]
  },
  {
   "attachments": {},
   "cell_type": "markdown",
   "metadata": {},
   "source": [
    "Next, let's look at how these value variables behave in a slightly more complex model."
   ]
  },
  {
   "cell_type": "code",
   "execution_count": 59,
   "metadata": {},
   "outputs": [],
   "source": [
    "with pm.Model() as model_2:\n",
    "    mu = pm.Normal(name=\"mu\", mu=0, sigma=2)\n",
    "    sigma = pm.HalfNormal(name=\"sigma\", sigma=3)\n",
    "    x = pm.Normal(name=\"x\", mu=mu, sigma=sigma)"
   ]
  },
  {
   "attachments": {},
   "cell_type": "markdown",
   "metadata": {},
   "source": [
    "Each model RV is related to a \"value variable\":"
   ]
  },
  {
   "cell_type": "code",
   "execution_count": 60,
   "metadata": {},
   "outputs": [
    {
     "data": {
      "text/plain": [
       "{mu ~ Normal(0, 2): mu,\n",
       " sigma ~ HalfNormal(0, 3): sigma_log__,\n",
       " x ~ Normal(mu, sigma): x}"
      ]
     },
     "execution_count": 60,
     "metadata": {},
     "output_type": "execute_result"
    }
   ],
   "source": [
    "model_2.rvs_to_values"
   ]
  },
  {
   "attachments": {},
   "cell_type": "markdown",
   "metadata": {},
   "source": [
    "Observe that for sigma the associated value is in the *log* scale as in practice we require unbounded values for efficient Markov chain Monte Carlo (MCMC) sampling."
   ]
  },
  {
   "cell_type": "code",
   "execution_count": 61,
   "metadata": {},
   "outputs": [
    {
     "data": {
      "text/plain": [
       "[mu, sigma_log__, x]"
      ]
     },
     "execution_count": 61,
     "metadata": {},
     "output_type": "execute_result"
    }
   ],
   "source": [
    "model_2.value_vars"
   ]
  },
  {
   "attachments": {},
   "cell_type": "markdown",
   "metadata": {},
   "source": [
    "Now that we know how to extract the model variables, we can compute the element-wise log-probability of the model for specific values."
   ]
  },
  {
   "cell_type": "code",
   "execution_count": 62,
   "metadata": {},
   "outputs": [
    {
     "data": {
      "text/plain": [
       "array([ -1.61208572, -11.32440366,   9.08106147])"
      ]
     },
     "execution_count": 62,
     "metadata": {},
     "output_type": "execute_result"
    }
   ],
   "source": [
    "# extract values as pytensor.tensor.var.TensorVariable\n",
    "mu_value = model_2.rvs_to_values[mu]\n",
    "sigma_log_value = model_2.rvs_to_values[sigma]\n",
    "x_value = model_2.rvs_to_values[x]\n",
    "# element-wise log-probability of the model (we do not take te sum)\n",
    "logp_graph = pt.stack(model_2.logp(sum=False))\n",
    "# evaluate by passing concrete values\n",
    "logp_graph.eval({mu_value: 0, sigma_log_value: -10, x_value: 0})"
   ]
  },
  {
   "attachments": {},
   "cell_type": "markdown",
   "metadata": {},
   "source": [
    "This equivalent to:"
   ]
  },
  {
   "cell_type": "code",
   "execution_count": 63,
   "metadata": {},
   "outputs": [
    {
     "name": "stdout",
     "output_type": "stream",
     "text": [
      "\n",
      "mu_value -> -1.612085713764618\n",
      "sigma_log_value -> -11.324403641427345 \n",
      "x_value -> 9.081061466795328\n",
      "\n"
     ]
    }
   ],
   "source": [
    "print(\n",
    "    f\"\"\"\n",
    "mu_value -> {scipy.stats.norm.logpdf(x=0, loc=0, scale=2)}\n",
    "sigma_log_value -> {- 10 + scipy.stats.halfnorm.logpdf(x=np.exp(-10), loc=0, scale=3)} \n",
    "x_value -> {scipy.stats.norm.logpdf(x=0, loc=0, scale=np.exp(-10))}\n",
    "\"\"\"\n",
    ")"
   ]
  },
  {
   "attachments": {},
   "cell_type": "markdown",
   "metadata": {},
   "source": [
    "> NOTE:\n",
    "> For `sigma_log_value` we add the $-10$ term for the `scipy` and `pytensor` to match because of the jacobian."
   ]
  },
  {
   "attachments": {},
   "cell_type": "markdown",
   "metadata": {},
   "source": [
    "As we already saw, we can also use the method `compile_logp` to obtain a compiled pytensor function of the model logp, which takes a dictionary of `{value variable name : value}` as inputs:"
   ]
  },
  {
   "cell_type": "code",
   "execution_count": 64,
   "metadata": {},
   "outputs": [
    {
     "data": {
      "text/plain": [
       "[array(-1.61208572), array(-11.32440366), array(9.08106147)]"
      ]
     },
     "execution_count": 64,
     "metadata": {},
     "output_type": "execute_result"
    }
   ],
   "source": [
    "model_2.compile_logp(sum=False)({\"mu\": 0, \"sigma_log__\": -10, \"x\": 0})"
   ]
  },
  {
   "attachments": {},
   "cell_type": "markdown",
   "metadata": {},
   "source": [
    "The `pymc.Model` class also has methods to extract the gradient `dlogp` and the hessian `d2logp` of the logp."
   ]
  },
  {
   "attachments": {},
   "cell_type": "markdown",
   "metadata": {},
   "source": [
    "If you want to go deeper into the internals of `pytensor` RandomVariables and `pymc` distributions please take a look into the [distribution developer guide](https://www.pymc.io/projects/docs/en/stable/contributing/implementing_distribution.html)."
   ]
  },
  {
   "attachments": {},
   "cell_type": "markdown",
   "metadata": {},
   "source": [
    "## Debugging"
   ]
  },
  {
   "attachments": {},
   "cell_type": "markdown",
   "metadata": {},
   "source": [
    "There are various levels on which to debug a model. One of the simplest is to just print out the values that different variables are taking on.\n",
    "\n",
    "Because `PyMC` uses `PyTensor` expressions to build the model rather than functions, there is no way to place a `print` statement into a likelihood function. Instead, you can use the `pytensor.printing.Print` class to print intermediate values."
   ]
  },
  {
   "attachments": {},
   "cell_type": "markdown",
   "metadata": {},
   "source": [
    "### How to print intermediate values of `PyTensor` functions\n",
    "Since `PyTensor` functions are compiled to C (or some other backend), you have to use `pytensor.printing.Print` class to print intermediate values (imported  below as `Print`). Python `print` function will not work. Below is a simple example of using `Print`. "
   ]
  },
  {
   "cell_type": "code",
   "execution_count": 65,
   "metadata": {},
   "outputs": [
    {
     "data": {
      "text/plain": [
       "array([ inf, 0.5 , 0.25])"
      ]
     },
     "execution_count": 65,
     "metadata": {},
     "output_type": "execute_result"
    }
   ],
   "source": [
    "x = pt.dvector(\"x\")\n",
    "y = pt.dvector(\"y\")\n",
    "func = pytensor.function([x, y], 1 / (x - y))\n",
    "func([1, 2, 3], [1, 0, -1])"
   ]
  },
  {
   "attachments": {},
   "cell_type": "markdown",
   "metadata": {},
   "source": [
    "To see what causes the `inf` value in the output, we can print intermediate values of $(x-y)$ using `Print`. `Print` class simply passes along its caller but prints out its value along a user-define message:"
   ]
  },
  {
   "cell_type": "code",
   "execution_count": 66,
   "metadata": {},
   "outputs": [
    {
     "name": "stdout",
     "output_type": "stream",
     "text": [
      "x - y =  __str__ = [0. 2. 4.]\n"
     ]
    },
    {
     "data": {
      "text/plain": [
       "array([ inf, 0.5 , 0.25])"
      ]
     },
     "execution_count": 66,
     "metadata": {},
     "output_type": "execute_result"
    }
   ],
   "source": [
    "Print = pytensor.printing.Print\n",
    "\n",
    "z_with_print = Print(\"x - y = \")(x - y)\n",
    "func_with_print = pytensor.function([x, y], 1 / z_with_print)\n",
    "func_with_print([1, 2, 3], [1, 0, -1])"
   ]
  },
  {
   "attachments": {},
   "cell_type": "markdown",
   "metadata": {},
   "source": [
    "`Print` reveals the root cause: $(x-y)$ takes a zero value when $x=1, y=1$, causing the `inf` output."
   ]
  },
  {
   "attachments": {},
   "cell_type": "markdown",
   "metadata": {},
   "source": [
    "### How to capture `Print` output for further analysis\n",
    "\n",
    "When we expect many rows of output from `Print`, it can be desirable to redirect the output to a string buffer and access the values later on. Here is a toy example using Python `print` function:"
   ]
  },
  {
   "cell_type": "code",
   "execution_count": 67,
   "metadata": {},
   "outputs": [],
   "source": [
    "import sys\n",
    "\n",
    "from io import StringIO\n",
    "\n",
    "old_stdout = sys.stdout\n",
    "mystdout = sys.stdout = StringIO()\n",
    "\n",
    "for i in range(5):\n",
    "    print(f\"Test values: {i}\")"
   ]
  },
  {
   "cell_type": "code",
   "execution_count": 68,
   "metadata": {},
   "outputs": [
    {
     "data": {
      "text/plain": [
       "['Test values: 0',\n",
       " 'Test values: 1',\n",
       " 'Test values: 2',\n",
       " 'Test values: 3',\n",
       " 'Test values: 4',\n",
       " '']"
      ]
     },
     "execution_count": 68,
     "metadata": {},
     "output_type": "execute_result"
    }
   ],
   "source": [
    "output = mystdout.getvalue().split(\"\\n\")\n",
    "sys.stdout = old_stdout  # setting sys.stdout back\n",
    "output"
   ]
  },
  {
   "attachments": {},
   "cell_type": "markdown",
   "metadata": {},
   "source": [
    "### Troubleshooting a toy PyMC model"
   ]
  },
  {
   "cell_type": "code",
   "execution_count": 69,
   "metadata": {},
   "outputs": [],
   "source": [
    "rng = np.random.default_rng(RANDOM_SEED)\n",
    "x = rng.normal(size=100)\n",
    "\n",
    "with pm.Model() as model:\n",
    "    # priors\n",
    "    mu = pm.Normal(\"mu\", mu=0, sigma=1)\n",
    "    sd = pm.Normal(\"sd\", mu=0, sigma=1)\n",
    "\n",
    "    # setting out printing for mu and sd\n",
    "    mu_print = Print(\"mu\")(mu)\n",
    "    sd_print = Print(\"sd\")(sd)\n",
    "\n",
    "    # likelihood\n",
    "    obs = pm.Normal(\"obs\", mu=mu_print, sigma=sd_print, observed=x)"
   ]
  },
  {
   "cell_type": "code",
   "execution_count": 70,
   "metadata": {},
   "outputs": [
    {
     "data": {
      "image/svg+xml": [
       "<?xml version=\"1.0\" encoding=\"UTF-8\" standalone=\"no\"?>\n",
       "<!DOCTYPE svg PUBLIC \"-//W3C//DTD SVG 1.1//EN\"\n",
       " \"http://www.w3.org/Graphics/SVG/1.1/DTD/svg11.dtd\">\n",
       "<!-- Generated by graphviz version 9.0.0 (20231125.0833)\n",
       " -->\n",
       "<!-- Pages: 1 -->\n",
       "<svg width=\"190pt\" height=\"247pt\"\n",
       " viewBox=\"0.00 0.00 190.02 247.13\" xmlns=\"http://www.w3.org/2000/svg\" xmlns:xlink=\"http://www.w3.org/1999/xlink\">\n",
       "<g id=\"graph0\" class=\"graph\" transform=\"scale(1 1) rotate(0) translate(4 243.13)\">\n",
       "<polygon fill=\"white\" stroke=\"none\" points=\"-4,4 -4,-243.13 186.02,-243.13 186.02,4 -4,4\"/>\n",
       "<g id=\"clust1\" class=\"cluster\">\n",
       "<title>cluster100</title>\n",
       "<path fill=\"none\" stroke=\"black\" d=\"M54.01,-8C54.01,-8 128.01,-8 128.01,-8 134.01,-8 140.01,-14 140.01,-20 140.01,-20 140.01,-117.82 140.01,-117.82 140.01,-123.82 134.01,-129.82 128.01,-129.82 128.01,-129.82 54.01,-129.82 54.01,-129.82 48.01,-129.82 42.01,-123.82 42.01,-117.82 42.01,-117.82 42.01,-20 42.01,-20 42.01,-14 48.01,-8 54.01,-8\"/>\n",
       "<text text-anchor=\"middle\" x=\"121.89\" y=\"-15.2\" font-family=\"Times,serif\" font-size=\"14.00\">100</text>\n",
       "</g>\n",
       "<!-- sd -->\n",
       "<g id=\"node1\" class=\"node\">\n",
       "<title>sd</title>\n",
       "<ellipse fill=\"none\" stroke=\"black\" cx=\"41.01\" cy=\"-198.48\" rx=\"41.01\" ry=\"40.66\"/>\n",
       "<text text-anchor=\"middle\" x=\"41.01\" y=\"-209.93\" font-family=\"Times,serif\" font-size=\"14.00\">sd</text>\n",
       "<text text-anchor=\"middle\" x=\"41.01\" y=\"-193.43\" font-family=\"Times,serif\" font-size=\"14.00\">~</text>\n",
       "<text text-anchor=\"middle\" x=\"41.01\" y=\"-176.93\" font-family=\"Times,serif\" font-size=\"14.00\">Normal</text>\n",
       "</g>\n",
       "<!-- obs -->\n",
       "<g id=\"node3\" class=\"node\">\n",
       "<title>obs</title>\n",
       "<ellipse fill=\"lightgrey\" stroke=\"black\" cx=\"91.01\" cy=\"-81.16\" rx=\"41.01\" ry=\"40.66\"/>\n",
       "<text text-anchor=\"middle\" x=\"91.01\" y=\"-92.61\" font-family=\"Times,serif\" font-size=\"14.00\">obs</text>\n",
       "<text text-anchor=\"middle\" x=\"91.01\" y=\"-76.11\" font-family=\"Times,serif\" font-size=\"14.00\">~</text>\n",
       "<text text-anchor=\"middle\" x=\"91.01\" y=\"-59.61\" font-family=\"Times,serif\" font-size=\"14.00\">Normal</text>\n",
       "</g>\n",
       "<!-- sd&#45;&gt;obs -->\n",
       "<g id=\"edge1\" class=\"edge\">\n",
       "<title>sd&#45;&gt;obs</title>\n",
       "<path fill=\"none\" stroke=\"black\" d=\"M56.97,-160.67C61.3,-150.69 66.05,-139.74 70.59,-129.26\"/>\n",
       "<polygon fill=\"black\" stroke=\"black\" points=\"73.67,-130.96 74.43,-120.4 67.24,-128.18 73.67,-130.96\"/>\n",
       "</g>\n",
       "<!-- mu -->\n",
       "<g id=\"node2\" class=\"node\">\n",
       "<title>mu</title>\n",
       "<ellipse fill=\"none\" stroke=\"black\" cx=\"141.01\" cy=\"-198.48\" rx=\"41.01\" ry=\"40.66\"/>\n",
       "<text text-anchor=\"middle\" x=\"141.01\" y=\"-209.93\" font-family=\"Times,serif\" font-size=\"14.00\">mu</text>\n",
       "<text text-anchor=\"middle\" x=\"141.01\" y=\"-193.43\" font-family=\"Times,serif\" font-size=\"14.00\">~</text>\n",
       "<text text-anchor=\"middle\" x=\"141.01\" y=\"-176.93\" font-family=\"Times,serif\" font-size=\"14.00\">Normal</text>\n",
       "</g>\n",
       "<!-- mu&#45;&gt;obs -->\n",
       "<g id=\"edge2\" class=\"edge\">\n",
       "<title>mu&#45;&gt;obs</title>\n",
       "<path fill=\"none\" stroke=\"black\" d=\"M125.05,-160.67C120.72,-150.69 115.98,-139.74 111.44,-129.26\"/>\n",
       "<polygon fill=\"black\" stroke=\"black\" points=\"114.78,-128.18 107.59,-120.4 108.36,-130.96 114.78,-128.18\"/>\n",
       "</g>\n",
       "</g>\n",
       "</svg>\n"
      ],
      "text/plain": [
       "<graphviz.graphs.Digraph at 0x7fd5033f93a0>"
      ]
     },
     "execution_count": 70,
     "metadata": {},
     "output_type": "execute_result"
    }
   ],
   "source": [
    "pm.model_to_graphviz(model)"
   ]
  },
  {
   "cell_type": "code",
   "execution_count": 71,
   "metadata": {},
   "outputs": [
    {
     "name": "stderr",
     "output_type": "stream",
     "text": [
      "Only 5 samples per chain. Reliable r-hat and ESS diagnostics require longer chains for accurate estimate.\n"
     ]
    },
    {
     "name": "stdout",
     "output_type": "stream",
     "text": [
      "mu __str__ = 0.0\n",
      "sd __str__ = 0.0\n"
     ]
    },
    {
     "ename": "SamplingError",
     "evalue": "Initial evaluation of model at starting point failed!\nStarting values:\n{'mu': array(0.), 'sd': array(0.)}\n\nLogp initial evaluation results:\n{'mu': -0.92, 'sd': -0.92, 'obs': -inf}\nYou can call `model.debug()` for more details.",
     "output_type": "error",
     "traceback": [
      "\u001b[0;31m---------------------------------------------------------------------------\u001b[0m",
      "\u001b[0;31mSamplingError\u001b[0m                             Traceback (most recent call last)",
      "Cell \u001b[0;32mIn[71], line 3\u001b[0m\n\u001b[1;32m      1\u001b[0m \u001b[38;5;28;01mwith\u001b[39;00m model:\n\u001b[1;32m      2\u001b[0m     step \u001b[38;5;241m=\u001b[39m pm\u001b[38;5;241m.\u001b[39mMetropolis()\n\u001b[0;32m----> 3\u001b[0m     trace \u001b[38;5;241m=\u001b[39m \u001b[43mpm\u001b[49m\u001b[38;5;241;43m.\u001b[39;49m\u001b[43msample\u001b[49m\u001b[43m(\u001b[49m\u001b[38;5;241;43m5\u001b[39;49m\u001b[43m,\u001b[49m\u001b[43m \u001b[49m\u001b[43mstep\u001b[49m\u001b[38;5;241;43m=\u001b[39;49m\u001b[43mstep\u001b[49m\u001b[43m,\u001b[49m\u001b[43m \u001b[49m\u001b[43mtune\u001b[49m\u001b[38;5;241;43m=\u001b[39;49m\u001b[38;5;241;43m0\u001b[39;49m\u001b[43m,\u001b[49m\u001b[43m \u001b[49m\u001b[43mchains\u001b[49m\u001b[38;5;241;43m=\u001b[39;49m\u001b[38;5;241;43m1\u001b[39;49m\u001b[43m,\u001b[49m\u001b[43m \u001b[49m\u001b[43mprogressbar\u001b[49m\u001b[38;5;241;43m=\u001b[39;49m\u001b[38;5;28;43;01mFalse\u001b[39;49;00m\u001b[43m,\u001b[49m\u001b[43m \u001b[49m\u001b[43mrandom_seed\u001b[49m\u001b[38;5;241;43m=\u001b[39;49m\u001b[43mRANDOM_SEED\u001b[49m\u001b[43m)\u001b[49m\n",
      "File \u001b[0;32m~/miniforge3/envs/pymc_course/lib/python3.12/site-packages/pymc/sampling/mcmc.py:740\u001b[0m, in \u001b[0;36msample\u001b[0;34m(draws, tune, chains, cores, random_seed, progressbar, progressbar_theme, step, var_names, nuts_sampler, initvals, init, jitter_max_retries, n_init, trace, discard_tuned_samples, compute_convergence_checks, keep_warning_stat, return_inferencedata, idata_kwargs, nuts_sampler_kwargs, callback, mp_ctx, model, **kwargs)\u001b[0m\n\u001b[1;32m    738\u001b[0m ip: \u001b[38;5;28mdict\u001b[39m[\u001b[38;5;28mstr\u001b[39m, np\u001b[38;5;241m.\u001b[39mndarray]\n\u001b[1;32m    739\u001b[0m \u001b[38;5;28;01mfor\u001b[39;00m ip \u001b[38;5;129;01min\u001b[39;00m initial_points:\n\u001b[0;32m--> 740\u001b[0m     \u001b[43mmodel\u001b[49m\u001b[38;5;241;43m.\u001b[39;49m\u001b[43mcheck_start_vals\u001b[49m\u001b[43m(\u001b[49m\u001b[43mip\u001b[49m\u001b[43m)\u001b[49m\n\u001b[1;32m    741\u001b[0m     _check_start_shape(model, ip)\n\u001b[1;32m    743\u001b[0m \u001b[38;5;28;01mif\u001b[39;00m var_names \u001b[38;5;129;01mis\u001b[39;00m \u001b[38;5;129;01mnot\u001b[39;00m \u001b[38;5;28;01mNone\u001b[39;00m:\n",
      "File \u001b[0;32m~/miniforge3/envs/pymc_course/lib/python3.12/site-packages/pymc/model/core.py:1710\u001b[0m, in \u001b[0;36mModel.check_start_vals\u001b[0;34m(self, start)\u001b[0m\n\u001b[1;32m   1707\u001b[0m initial_eval \u001b[38;5;241m=\u001b[39m \u001b[38;5;28mself\u001b[39m\u001b[38;5;241m.\u001b[39mpoint_logps(point\u001b[38;5;241m=\u001b[39melem)\n\u001b[1;32m   1709\u001b[0m \u001b[38;5;28;01mif\u001b[39;00m \u001b[38;5;129;01mnot\u001b[39;00m \u001b[38;5;28mall\u001b[39m(np\u001b[38;5;241m.\u001b[39misfinite(v) \u001b[38;5;28;01mfor\u001b[39;00m v \u001b[38;5;129;01min\u001b[39;00m initial_eval\u001b[38;5;241m.\u001b[39mvalues()):\n\u001b[0;32m-> 1710\u001b[0m     \u001b[38;5;28;01mraise\u001b[39;00m SamplingError(\n\u001b[1;32m   1711\u001b[0m         \u001b[38;5;124m\"\u001b[39m\u001b[38;5;124mInitial evaluation of model at starting point failed!\u001b[39m\u001b[38;5;130;01m\\n\u001b[39;00m\u001b[38;5;124m\"\u001b[39m\n\u001b[1;32m   1712\u001b[0m         \u001b[38;5;124mf\u001b[39m\u001b[38;5;124m\"\u001b[39m\u001b[38;5;124mStarting values:\u001b[39m\u001b[38;5;130;01m\\n\u001b[39;00m\u001b[38;5;132;01m{\u001b[39;00melem\u001b[38;5;132;01m}\u001b[39;00m\u001b[38;5;130;01m\\n\u001b[39;00m\u001b[38;5;130;01m\\n\u001b[39;00m\u001b[38;5;124m\"\u001b[39m\n\u001b[1;32m   1713\u001b[0m         \u001b[38;5;124mf\u001b[39m\u001b[38;5;124m\"\u001b[39m\u001b[38;5;124mLogp initial evaluation results:\u001b[39m\u001b[38;5;130;01m\\n\u001b[39;00m\u001b[38;5;132;01m{\u001b[39;00minitial_eval\u001b[38;5;132;01m}\u001b[39;00m\u001b[38;5;130;01m\\n\u001b[39;00m\u001b[38;5;124m\"\u001b[39m\n\u001b[1;32m   1714\u001b[0m         \u001b[38;5;124m\"\u001b[39m\u001b[38;5;124mYou can call `model.debug()` for more details.\u001b[39m\u001b[38;5;124m\"\u001b[39m\n\u001b[1;32m   1715\u001b[0m     )\n",
      "\u001b[0;31mSamplingError\u001b[0m: Initial evaluation of model at starting point failed!\nStarting values:\n{'mu': array(0.), 'sd': array(0.)}\n\nLogp initial evaluation results:\n{'mu': -0.92, 'sd': -0.92, 'obs': -inf}\nYou can call `model.debug()` for more details."
     ]
    }
   ],
   "source": [
    "with model:\n",
    "    step = pm.Metropolis()\n",
    "    trace = pm.sample(5, step=step, tune=0, chains=1, progressbar=False, random_seed=RANDOM_SEED)"
   ]
  },
  {
   "attachments": {},
   "cell_type": "markdown",
   "metadata": {},
   "source": [
    "Exception handling of PyMC has improved, so now SamplingError exception prints out the intermediate values of `mu` and `sd` which led to likelihood of `-inf`. However, this technique of printing intermediate values with `pytensor.printing.Print` can be valuable in more complicated cases."
   ]
  },
  {
   "attachments": {},
   "cell_type": "markdown",
   "metadata": {},
   "source": [
    "### Bringing it all together"
   ]
  },
  {
   "cell_type": "code",
   "execution_count": 72,
   "metadata": {},
   "outputs": [
    {
     "name": "stderr",
     "output_type": "stream",
     "text": [
      "Only 10 samples per chain. Reliable r-hat and ESS diagnostics require longer chains for accurate estimate.\n",
      "Auto-assigning NUTS sampler...\n",
      "Initializing NUTS using jitter+adapt_diag...\n",
      "Sequential sampling (1 chains in 1 job)\n",
      "NUTS: [mu, a, b]\n"
     ]
    },
    {
     "data": {
      "application/vnd.jupyter.widget-view+json": {
       "model_id": "e206b986846145d1a2e4832889a27977",
       "version_major": 2,
       "version_minor": 0
      },
      "text/plain": [
       "Output()"
      ]
     },
     "metadata": {},
     "output_type": "display_data"
    },
    {
     "data": {
      "text/html": [
       "<pre style=\"white-space:pre;overflow-x:auto;line-height:normal;font-family:Menlo,'DejaVu Sans Mono',consolas,'Courier New',monospace\">Delta __str__ = 1.1201748449464126\n",
       "</pre>\n"
      ],
      "text/plain": [
       "Delta __str__ = 1.1201748449464126\n"
      ]
     },
     "metadata": {},
     "output_type": "display_data"
    },
    {
     "data": {
      "text/html": [
       "<pre style=\"white-space:pre;overflow-x:auto;line-height:normal;font-family:Menlo,'DejaVu Sans Mono',consolas,'Courier New',monospace\">Delta __str__ = -1.034597937307767\n",
       "</pre>\n"
      ],
      "text/plain": [
       "Delta __str__ = -1.034597937307767\n"
      ]
     },
     "metadata": {},
     "output_type": "display_data"
    },
    {
     "data": {
      "text/html": [
       "<pre style=\"white-space:pre;overflow-x:auto;line-height:normal;font-family:Menlo,'DejaVu Sans Mono',consolas,'Courier New',monospace\">Delta __str__ = 1.1201748449464126\n",
       "</pre>\n"
      ],
      "text/plain": [
       "Delta __str__ = 1.1201748449464126\n"
      ]
     },
     "metadata": {},
     "output_type": "display_data"
    },
    {
     "data": {
      "text/html": [
       "<pre style=\"white-space:pre;overflow-x:auto;line-height:normal;font-family:Menlo,'DejaVu Sans Mono',consolas,'Courier New',monospace\">Delta __str__ = -1.0052632266480181\n",
       "</pre>\n"
      ],
      "text/plain": [
       "Delta __str__ = -1.0052632266480181\n"
      ]
     },
     "metadata": {},
     "output_type": "display_data"
    },
    {
     "data": {
      "text/html": [
       "<pre style=\"white-space:pre;overflow-x:auto;line-height:normal;font-family:Menlo,'DejaVu Sans Mono',consolas,'Courier New',monospace\">Delta __str__ = 1.1201748449464126\n",
       "</pre>\n"
      ],
      "text/plain": [
       "Delta __str__ = 1.1201748449464126\n"
      ]
     },
     "metadata": {},
     "output_type": "display_data"
    },
    {
     "data": {
      "text/html": [
       "<pre style=\"white-space:pre;overflow-x:auto;line-height:normal;font-family:Menlo,'DejaVu Sans Mono',consolas,'Courier New',monospace\">Delta __str__ = -1.045167584246843\n",
       "</pre>\n"
      ],
      "text/plain": [
       "Delta __str__ = -1.045167584246843\n"
      ]
     },
     "metadata": {},
     "output_type": "display_data"
    },
    {
     "data": {
      "text/html": [
       "<pre style=\"white-space:pre;overflow-x:auto;line-height:normal;font-family:Menlo,'DejaVu Sans Mono',consolas,'Courier New',monospace\">Delta __str__ = 1.1201748449464126\n",
       "</pre>\n"
      ],
      "text/plain": [
       "Delta __str__ = 1.1201748449464126\n"
      ]
     },
     "metadata": {},
     "output_type": "display_data"
    },
    {
     "data": {
      "text/html": [
       "<pre style=\"white-space:pre;overflow-x:auto;line-height:normal;font-family:Menlo,'DejaVu Sans Mono',consolas,'Courier New',monospace\">Delta __str__ = -1.0000654618321854\n",
       "</pre>\n"
      ],
      "text/plain": [
       "Delta __str__ = -1.0000654618321854\n"
      ]
     },
     "metadata": {},
     "output_type": "display_data"
    },
    {
     "data": {
      "text/html": [
       "<pre style=\"white-space:pre;overflow-x:auto;line-height:normal;font-family:Menlo,'DejaVu Sans Mono',consolas,'Courier New',monospace\">Delta __str__ = 1.1201748449464126\n",
       "</pre>\n"
      ],
      "text/plain": [
       "Delta __str__ = 1.1201748449464126\n"
      ]
     },
     "metadata": {},
     "output_type": "display_data"
    },
    {
     "data": {
      "text/html": [
       "<pre style=\"white-space:pre;overflow-x:auto;line-height:normal;font-family:Menlo,'DejaVu Sans Mono',consolas,'Courier New',monospace\">Delta __str__ = -1.001563464064823\n",
       "</pre>\n"
      ],
      "text/plain": [
       "Delta __str__ = -1.001563464064823\n"
      ]
     },
     "metadata": {},
     "output_type": "display_data"
    },
    {
     "data": {
      "text/html": [
       "<pre style=\"white-space:pre;overflow-x:auto;line-height:normal;font-family:Menlo,'DejaVu Sans Mono',consolas,'Courier New',monospace\">Delta __str__ = 1.1201748449464126\n",
       "</pre>\n"
      ],
      "text/plain": [
       "Delta __str__ = 1.1201748449464126\n"
      ]
     },
     "metadata": {},
     "output_type": "display_data"
    },
    {
     "data": {
      "text/html": [
       "<pre style=\"white-space:pre;overflow-x:auto;line-height:normal;font-family:Menlo,'DejaVu Sans Mono',consolas,'Courier New',monospace\">Delta __str__ = -0.9947811326651326\n",
       "</pre>\n"
      ],
      "text/plain": [
       "Delta __str__ = -0.9947811326651326\n"
      ]
     },
     "metadata": {},
     "output_type": "display_data"
    },
    {
     "data": {
      "text/html": [
       "<pre style=\"white-space:pre;overflow-x:auto;line-height:normal;font-family:Menlo,'DejaVu Sans Mono',consolas,'Courier New',monospace\">Delta __str__ = 1.1201748449464126\n",
       "</pre>\n"
      ],
      "text/plain": [
       "Delta __str__ = 1.1201748449464126\n"
      ]
     },
     "metadata": {},
     "output_type": "display_data"
    },
    {
     "data": {
      "text/html": [
       "<pre style=\"white-space:pre;overflow-x:auto;line-height:normal;font-family:Menlo,'DejaVu Sans Mono',consolas,'Courier New',monospace\">Delta __str__ = -0.9781621135718288\n",
       "</pre>\n"
      ],
      "text/plain": [
       "Delta __str__ = -0.9781621135718288\n"
      ]
     },
     "metadata": {},
     "output_type": "display_data"
    },
    {
     "data": {
      "text/html": [
       "<pre style=\"white-space:pre;overflow-x:auto;line-height:normal;font-family:Menlo,'DejaVu Sans Mono',consolas,'Courier New',monospace\">Delta __str__ = 1.1201748449464126\n",
       "</pre>\n"
      ],
      "text/plain": [
       "Delta __str__ = 1.1201748449464126\n"
      ]
     },
     "metadata": {},
     "output_type": "display_data"
    },
    {
     "data": {
      "text/html": [
       "<pre style=\"white-space:pre;overflow-x:auto;line-height:normal;font-family:Menlo,'DejaVu Sans Mono',consolas,'Courier New',monospace\">Delta __str__ = -0.9991517760061399\n",
       "</pre>\n"
      ],
      "text/plain": [
       "Delta __str__ = -0.9991517760061399\n"
      ]
     },
     "metadata": {},
     "output_type": "display_data"
    },
    {
     "data": {
      "text/html": [
       "<pre style=\"white-space:pre;overflow-x:auto;line-height:normal;font-family:Menlo,'DejaVu Sans Mono',consolas,'Courier New',monospace\">Delta __str__ = 1.1201748449464126\n",
       "</pre>\n"
      ],
      "text/plain": [
       "Delta __str__ = 1.1201748449464126\n"
      ]
     },
     "metadata": {},
     "output_type": "display_data"
    },
    {
     "data": {
      "text/html": [
       "<pre style=\"white-space:pre;overflow-x:auto;line-height:normal;font-family:Menlo,'DejaVu Sans Mono',consolas,'Courier New',monospace\">Delta __str__ = -0.9762379453736406\n",
       "</pre>\n"
      ],
      "text/plain": [
       "Delta __str__ = -0.9762379453736406\n"
      ]
     },
     "metadata": {},
     "output_type": "display_data"
    },
    {
     "data": {
      "text/html": [
       "<pre style=\"white-space:pre;overflow-x:auto;line-height:normal;font-family:Menlo,'DejaVu Sans Mono',consolas,'Courier New',monospace\">Delta __str__ = 1.1201748449464126\n",
       "</pre>\n"
      ],
      "text/plain": [
       "Delta __str__ = 1.1201748449464126\n"
      ]
     },
     "metadata": {},
     "output_type": "display_data"
    },
    {
     "data": {
      "text/html": [
       "<pre style=\"white-space:pre;overflow-x:auto;line-height:normal;font-family:Menlo,'DejaVu Sans Mono',consolas,'Courier New',monospace\">Delta __str__ = -0.9686864611911746\n",
       "</pre>\n"
      ],
      "text/plain": [
       "Delta __str__ = -0.9686864611911746\n"
      ]
     },
     "metadata": {},
     "output_type": "display_data"
    },
    {
     "data": {
      "text/html": [
       "<pre style=\"white-space:pre;overflow-x:auto;line-height:normal;font-family:Menlo,'DejaVu Sans Mono',consolas,'Courier New',monospace\"></pre>\n"
      ],
      "text/plain": []
     },
     "metadata": {},
     "output_type": "display_data"
    },
    {
     "data": {
      "text/html": [
       "<pre style=\"white-space:pre;overflow-x:auto;line-height:normal;font-family:Menlo,'DejaVu Sans Mono',consolas,'Courier New',monospace\">\n",
       "</pre>\n"
      ],
      "text/plain": [
       "\n"
      ]
     },
     "metadata": {},
     "output_type": "display_data"
    },
    {
     "name": "stderr",
     "output_type": "stream",
     "text": [
      "Sampling 1 chain for 0 tune and 10 draw iterations (0 + 10 draws total) took 0 seconds.\n",
      "There were 10 divergences after tuning. Increase `target_accept` or reparameterize.\n",
      "The number of samples is too small to check convergence reliably.\n"
     ]
    }
   ],
   "source": [
    "rng = np.random.default_rng(RANDOM_SEED)\n",
    "y = rng.normal(loc=5, size=20)\n",
    "\n",
    "old_stdout = sys.stdout\n",
    "mystdout = sys.stdout = StringIO()\n",
    "\n",
    "with pm.Model() as model:\n",
    "    mu = pm.Normal(\"mu\", mu=0, sigma=10)\n",
    "    a = pm.Normal(\"a\", mu=0, sigma=10, initval=0.1)\n",
    "    b = pm.Normal(\"b\", mu=0, sigma=10, initval=0.1)\n",
    "    sd_print = Print(\"Delta\")(a / b)\n",
    "    obs = pm.Normal(\"obs\", mu=mu, sigma=sd_print, observed=y)\n",
    "\n",
    "    # limiting number of samples and chains to simplify output\n",
    "    trace = pm.sample(draws=10, tune=0, chains=1, progressbar=False, random_seed=RANDOM_SEED)\n",
    "\n",
    "output = mystdout.getvalue()\n",
    "sys.stdout = old_stdout  # setting sys.stdout back"
   ]
  },
  {
   "cell_type": "code",
   "execution_count": 73,
   "metadata": {},
   "outputs": [
    {
     "data": {
      "text/plain": [
       "'Delta __str__ = 1.1201748449464126\\nDelta __str__ = 1.1201748449464126\\n'"
      ]
     },
     "execution_count": 73,
     "metadata": {},
     "output_type": "execute_result"
    }
   ],
   "source": [
    "output"
   ]
  },
  {
   "attachments": {},
   "cell_type": "markdown",
   "metadata": {},
   "source": [
    "Raw output is a bit messy and requires some cleanup and formatting to convert to `numpy.ndarray`. In the example below regex is used to clean up the output, and then it is evaluated with `eval` to give a list of floats. Code below also works with higher-dimensional outputs (in case you want to experiment with different models)."
   ]
  },
  {
   "cell_type": "code",
   "execution_count": 74,
   "metadata": {},
   "outputs": [],
   "source": [
    "import re\n",
    "\n",
    "# output cleanup and conversion to numpy array\n",
    "# this is code accepts more complicated inputs\n",
    "pattern = re.compile(\"Delta __str__ = \")\n",
    "output = re.sub(pattern, \" \", output)\n",
    "pattern = re.compile(\"\\\\s+\")\n",
    "output = re.sub(pattern, \",\", output)\n",
    "pattern = re.compile(r\"\\[,\")\n",
    "output = re.sub(pattern, \"[\", output)\n",
    "output += \"]\"\n",
    "output = \"[\" + output[1:]\n",
    "output = eval(output)\n",
    "output = np.array(output)"
   ]
  },
  {
   "cell_type": "code",
   "execution_count": 75,
   "metadata": {},
   "outputs": [
    {
     "data": {
      "text/plain": [
       "array([1.12017484, 1.12017484])"
      ]
     },
     "execution_count": 75,
     "metadata": {},
     "output_type": "execute_result"
    }
   ],
   "source": [
    "output"
   ]
  },
  {
   "attachments": {},
   "cell_type": "markdown",
   "metadata": {},
   "source": [
    "Notice that we requested 5 draws, but got 34 sets of $a/b$ values. The reason is that for each iteration, all proposed values are printed (not just the accepted values). Negative values are clearly problematic."
   ]
  },
  {
   "cell_type": "markdown",
   "metadata": {},
   "source": [
    "---\n",
    "## References\n",
    "\n",
    "[PyTensor: Getting Started](https://pytensor.readthedocs.io/en/latest/introduction.html)\n",
    "\n",
    "[PyTensor: Implementing a Random Variable Distribution](https://www.pymc.io/projects/docs/en/stable/contributing/implementing_distribution.html)"
   ]
  }
 ],
 "metadata": {
  "colab": {
   "collapsed_sections": [
    "dIYxBNT_5HgW",
    "JhmIBByY6T9h",
    "k7spOYvvTdZL",
    "qIMN2gHGzKof",
    "aMM0sJy6z7Ur",
    "WY6bUgqZztC3",
    "58gng2f17_P7",
    "C8Us4nEyhRdu",
    "wkZR0gDWRAgK",
    "wPw9kCvASOeJ",
    "WdZcUfvLUkwK",
    "EHH1hP0uzaWG",
    "I_Ph4o7ZW_XD",
    "jOI-E76fZ2bG",
    "Rq2W2fmobmFg"
   ],
   "name": "PyMC intro.ipynb",
   "provenance": []
  },
  "hide_input": false,
  "kernelspec": {
   "display_name": "Python 3 (ipykernel)",
   "language": "python",
   "name": "python3"
  },
  "language_info": {
   "codemirror_mode": {
    "name": "ipython",
    "version": 3
   },
   "file_extension": ".py",
   "mimetype": "text/x-python",
   "name": "python",
   "nbconvert_exporter": "python",
   "pygments_lexer": "ipython3",
   "version": "3.12.3"
  },
  "toc": {
   "base_numbering": 1,
   "nav_menu": {},
   "number_sections": true,
   "sideBar": true,
   "skip_h1_title": false,
   "title_cell": "Table of Contents",
   "title_sidebar": "Contents",
   "toc_cell": false,
   "toc_position": {},
   "toc_section_display": true,
   "toc_window_display": false
  },
  "vscode": {
   "interpreter": {
    "hash": "867ba48c05011db76db56a12fb95ccd32f7ac276df8f4ae698e0d475911a6ba0"
   }
  }
 },
 "nbformat": 4,
 "nbformat_minor": 1
}
